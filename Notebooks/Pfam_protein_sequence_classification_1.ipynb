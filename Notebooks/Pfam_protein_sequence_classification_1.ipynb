{
 "cells": [
  {
   "cell_type": "markdown",
   "metadata": {
    "colab_type": "text",
    "id": "iAHSXYnksSBj"
   },
   "source": [
    "# Protein Sequence Classification on pfam dataset"
   ]
  },
  {
   "cell_type": "markdown",
   "metadata": {
    "colab_type": "text",
    "id": "y_dDnHNus7SL"
   },
   "source": [
    "## 1. Business Problem"
   ]
  },
  {
   "cell_type": "markdown",
   "metadata": {
    "colab_type": "text",
    "id": "KmJ2E-Krs_xt"
   },
   "source": [
    "### 1.1 Description"
   ]
  },
  {
   "cell_type": "markdown",
   "metadata": {
    "colab_type": "text",
    "id": "MDx-UEBztDpK"
   },
   "source": [
    "[Proteins](https://en.wikipedia.org/wiki/Protein) are large, complex biomolecules that play many critical roles in biological bodies. Proteins are made up of one or more long chains of [amino acids](https://en.wikipedia.org/wiki/Amino_acid) sequences. These Sequence are the arrangement of amino acids in a protein held together by [peptide bonds](https://en.wikipedia.org/wiki/Peptide_bond). Proteins can be made from [20](https://www.hornetjuice.com/amino-acids-types/) different kinds of amino acids, and the structure and function of each protein are determined by the kinds of amino acids used to make it and how they are arranged. \n",
    "\n",
    "Understanding this relationship between amino acid sequence and protein function is a long-standing problem in moleculer biology with far-reaching scientific implications. Can we use deep learning that learns the relationship between unaligned amino acid sequences and their functional annotations across all 17929 families of the Pfam database.\n",
    "\n",
    "[Pfam](https://en.m.wikipedia.org/wiki/Pfam) is a database of [protein families](https://en.m.wikipedia.org/wiki/Protein_family) that includes their annotations and multiple sequence alignments.\n",
    "\n",
    "__Problem Statement__\n",
    "- Classification of protein's amino acid sequence to one of the protein family accession, based on PFam dataset.\n",
    "- In other words, the task is: given the amino acid sequence of the protein domain, predict which class it belongs to.\n"
   ]
  },
  {
   "cell_type": "markdown",
   "metadata": {
    "colab_type": "text",
    "id": "jtyg15A6ATsS"
   },
   "source": [
    "### 1.2 Sources/Useful Links"
   ]
  },
  {
   "cell_type": "markdown",
   "metadata": {
    "colab_type": "text",
    "id": "uPZiBF6ca_Sh"
   },
   "source": [
    "- Source: [Pfam seed random split](https://www.kaggle.com/googleai/pfam-seed-random-split)\n",
    "- Paper: [Using deep learning to annotate the protein universe](https://www.biorxiv.org/content/10.1101/626507v4.full)."
   ]
  },
  {
   "cell_type": "markdown",
   "metadata": {
    "colab_type": "text",
    "id": "eF6y4ZtNBAaY"
   },
   "source": [
    "### 1.3 Real world/Business Objectives and Constraints"
   ]
  },
  {
   "cell_type": "markdown",
   "metadata": {
    "colab_type": "text",
    "id": "0U6WEFA3BI0S"
   },
   "source": [
    "Objectives\n",
    "- Predict protein family accession from its amino acids sequence with high accuracy."
   ]
  },
  {
   "cell_type": "markdown",
   "metadata": {
    "colab_type": "text",
    "id": "ylHPrtMlBvyB"
   },
   "source": [
    "## 2. Machine Learning Problem"
   ]
  },
  {
   "cell_type": "markdown",
   "metadata": {
    "colab_type": "text",
    "id": "xdkPtpHiB45Y"
   },
   "source": [
    "### 2.1 Data"
   ]
  },
  {
   "cell_type": "markdown",
   "metadata": {
    "colab_type": "text",
    "id": "Vn03S7RtB8XS"
   },
   "source": [
    "#### 2.1.1 Data Overview"
   ]
  },
  {
   "cell_type": "markdown",
   "metadata": {
    "colab_type": "text",
    "id": "0R9yCaZiB_76"
   },
   "source": [
    "- `sequence`: These are usually the input features to the model. Amino acid sequence for this domain. There are 20 very common amino acids (frequency > 1,000,000), and 4 amino acids that are quite uncommon: X, U, B, O, Z.\n",
    "\n",
    "- `family_accession`: These are usually the labels for the model. Accession number in form PFxxxxx.y (Pfam), where xxxxx is the family accession, and y is the version number. Some values of y are greater than ten, and so 'y' has two digits.\n",
    "\n",
    "- `sequence_name`: Sequence name, in the form \"uniprot_accession_id/start_index-end_index\". \n",
    "\n",
    "- `aligned_sequence`: Contains a single sequence from the multiple sequence alignment (with the rest of the members of the family in seed, with gaps retained.\n",
    "\n",
    "- `family_id`: One word name for family. "
   ]
  },
  {
   "cell_type": "markdown",
   "metadata": {
    "colab_type": "text",
    "id": "u12YlDWcCr66"
   },
   "source": [
    "#### 2.1.2 Example Data point"
   ]
  },
  {
   "cell_type": "markdown",
   "metadata": {
    "colab_type": "text",
    "id": "OtOApClbCDfM"
   },
   "source": [
    "\n",
    "\n",
    "```\n",
    "sequence: HWLQMRDSMNTYNNMVNRCFATCIRSFQEKKVNAEEMDCTKRCVTKFVGYSQRVALRFAE \n",
    "family_accession: PF02953.15\n",
    "sequence_name: C5K6N5_PERM5/28-87\n",
    "aligned_sequence: ....HWLQMRDSMNTYNNMVNRCFATCI...........RS.F....QEKKVNAEE.....MDCT....KRCVTKFVGYSQRVALRFAE \n",
    "family_id: zf-Tim10_DDP\n",
    "```\n",
    "\n"
   ]
  },
  {
   "cell_type": "markdown",
   "metadata": {
    "colab_type": "text",
    "id": "z4tAp7Xrb5gX"
   },
   "source": [
    "#### 2.1.3 Data split"
   ]
  },
  {
   "cell_type": "markdown",
   "metadata": {
    "colab_type": "text",
    "id": "Cq-WD5arGu7x"
   },
   "source": [
    "- We have been provided with already done random split(train, val, test) of pfam dataset.\n",
    "  - Train - 80% (For training the models).\n",
    "  - Val - 10% (For hyperparameter tuning/model validation).\n",
    "  - Test - 10% (For acessing the model performance)."
   ]
  },
  {
   "cell_type": "markdown",
   "metadata": {
    "colab_type": "text",
    "id": "CUfCZp0ICwaF"
   },
   "source": [
    "### 2.2 Mapping the real world problem to an ML problem"
   ]
  },
  {
   "cell_type": "markdown",
   "metadata": {
    "colab_type": "text",
    "id": "24iT472YC2J-"
   },
   "source": [
    "#### 2.2.1 Type of Machine learning Problem"
   ]
  },
  {
   "cell_type": "markdown",
   "metadata": {
    "colab_type": "text",
    "id": "S7QCMBQJDIDw"
   },
   "source": [
    "It is a multi class classification problem, for a given sequence of amino acids we need to predict its family accession."
   ]
  },
  {
   "cell_type": "markdown",
   "metadata": {
    "colab_type": "text",
    "id": "qnlBgZX8DVP2"
   },
   "source": [
    "#### 2.2.2 Performance Metric"
   ]
  },
  {
   "cell_type": "markdown",
   "metadata": {
    "colab_type": "text",
    "id": "SZ5tn5EmDdYe"
   },
   "source": [
    "- Multi class log loss\n",
    "- Accuracy"
   ]
  },
  {
   "cell_type": "markdown",
   "metadata": {
    "colab_type": "text",
    "id": "zQJnjfq1D6Js"
   },
   "source": [
    "## 3. Exploratory Data Analysis"
   ]
  },
  {
   "cell_type": "markdown",
   "metadata": {
    "colab_type": "text",
    "id": "2YlZeBjv5ejk"
   },
   "source": [
    "### Importing Libraries"
   ]
  },
  {
   "cell_type": "code",
   "execution_count": 8,
   "metadata": {
    "colab": {
     "base_uri": "https://localhost:8080/",
     "height": 34
    },
    "colab_type": "code",
    "id": "EqLtXwPchzZf",
    "outputId": "6d590203-8c02-4e96-ec23-d7d9cdb1d92f"
   },
   "outputs": [],
   "source": [
    "%matplotlib inline\n",
    "\n",
    "import os\n",
    "import gc\n",
    "\n",
    "import numpy as np\n",
    "import pandas as pd\n",
    "import matplotlib.pyplot as plt\n",
    "import seaborn as sns\n",
    "\n",
    "from collections import Counter\n",
    "from prettytable import PrettyTable\n",
    "from IPython.display import Image\n",
    "\n",
    "from sklearn.preprocessing import LabelEncoder\n",
    "\n",
    "from keras.models import Model\n",
    "from keras.regularizers import l2\n",
    "from keras.constraints import max_norm\n",
    "from keras.utils import to_categorical\n",
    "from keras.preprocessing.text import Tokenizer\n",
    "from keras.preprocessing.sequence import pad_sequences\n",
    "from keras.callbacks import EarlyStopping\n",
    "from keras.layers import Input, Dense, Dropout, Flatten, Activation\n",
    "from keras.layers import Conv1D, Add, MaxPooling1D, BatchNormalization\n",
    "from keras.layers import Embedding, Bidirectional,LSTM, GlobalMaxPooling1D\n",
    "import chainer\n",
    "import chainer.functions as F\n",
    "import chainer.links as L\n",
    "from chainer.functions.loss import softmax_cross_entropy\n",
    "from chainer.functions.evaluation import accuracy\n",
    "from chainer import reporter"
   ]
  },
  {
   "cell_type": "code",
   "execution_count": 4,
   "metadata": {
    "colab": {},
    "colab_type": "code",
    "id": "a_k-q8gv_J2_"
   },
   "outputs": [],
   "source": [
    "import tensorflow as tf\n",
    "tf.logging.set_verbosity(tf.logging.ERROR)"
   ]
  },
  {
   "cell_type": "code",
   "execution_count": 0,
   "metadata": {
    "colab": {},
    "colab_type": "code",
    "id": "L4wU9AP3jYWU"
   },
   "outputs": [],
   "source": [
    "from google.colab import drive\n",
    "drive.mount('/content/drive')"
   ]
  },
  {
   "cell_type": "markdown",
   "metadata": {
    "colab_type": "text",
    "id": "GCPrxSoI5jQZ"
   },
   "source": [
    "### Loading Data"
   ]
  },
  {
   "cell_type": "code",
   "execution_count": 5,
   "metadata": {
    "colab": {
     "base_uri": "https://localhost:8080/",
     "height": 34
    },
    "colab_type": "code",
    "id": "Is-kuTuGzYGN",
    "outputId": "270d71b8-6772-4a6a-b7b1-0cdbdee0353e"
   },
   "outputs": [
    {
     "name": "stdout",
     "output_type": "stream",
     "text": [
      "Available data ['dev', 'random_split', 'test', 'train']\n"
     ]
    }
   ],
   "source": [
    "data_path = 'pfam-seed-random-split/random_split/'\n",
    "print('Available data', os.listdir(data_path))"
   ]
  },
  {
   "cell_type": "code",
   "execution_count": 6,
   "metadata": {
    "colab": {},
    "colab_type": "code",
    "id": "4NrlxI8tiIww"
   },
   "outputs": [],
   "source": [
    "# https://www.kaggle.com/drewbryant/starter-pfam-seed-random-split\n",
    "\n",
    "# data is randomly splitted in three folders [train(80%), test(10%), dev(10%)]\n",
    "# reading and concatinating data for each folder.\n",
    "\n",
    "def read_data(partition):\n",
    "  data = []\n",
    "  for fn in os.listdir(os.path.join(data_path, partition)):\n",
    "    with open(os.path.join(data_path, partition, fn)) as f:\n",
    "      data.append(pd.read_csv(f, index_col=None))\n",
    "  return pd.concat(data)"
   ]
  },
  {
   "cell_type": "code",
   "execution_count": 7,
   "metadata": {
    "colab": {},
    "colab_type": "code",
    "id": "Xy25Vu-K3MvW"
   },
   "outputs": [],
   "source": [
    "# reading all data_partitions\n",
    "\n",
    "df_train = read_data('train')\n",
    "df_val = read_data('dev')\n",
    "df_test = read_data('test')"
   ]
  },
  {
   "cell_type": "markdown",
   "metadata": {
    "colab_type": "text",
    "id": "lqRU2FBxezKq"
   },
   "source": [
    "### Basic Statistics"
   ]
  },
  {
   "cell_type": "code",
   "execution_count": 8,
   "metadata": {
    "colab": {
     "base_uri": "https://localhost:8080/",
     "height": 185
    },
    "colab_type": "code",
    "id": "pj2uvMN6pw7Y",
    "outputId": "e9850a9f-44da-4804-940c-0dce9d7998d0"
   },
   "outputs": [
    {
     "name": "stdout",
     "output_type": "stream",
     "text": [
      "<class 'pandas.core.frame.DataFrame'>\n",
      "Int64Index: 1086741 entries, 0 to 13514\n",
      "Data columns (total 5 columns):\n",
      "family_id           1086741 non-null object\n",
      "sequence_name       1086741 non-null object\n",
      "family_accession    1086741 non-null object\n",
      "aligned_sequence    1086741 non-null object\n",
      "sequence            1086741 non-null object\n",
      "dtypes: object(5)\n",
      "memory usage: 49.7+ MB\n"
     ]
    }
   ],
   "source": [
    "df_train.info()"
   ]
  },
  {
   "cell_type": "code",
   "execution_count": 9,
   "metadata": {
    "colab": {
     "base_uri": "https://localhost:8080/",
     "height": 195
    },
    "colab_type": "code",
    "id": "fvvyiT4PTlew",
    "outputId": "e5d8d420-9d92-43bf-99a2-6f5408e5d398"
   },
   "outputs": [
    {
     "data": {
      "text/html": [
       "<div>\n",
       "<style scoped>\n",
       "    .dataframe tbody tr th:only-of-type {\n",
       "        vertical-align: middle;\n",
       "    }\n",
       "\n",
       "    .dataframe tbody tr th {\n",
       "        vertical-align: top;\n",
       "    }\n",
       "\n",
       "    .dataframe thead th {\n",
       "        text-align: right;\n",
       "    }\n",
       "</style>\n",
       "<table border=\"1\" class=\"dataframe\">\n",
       "  <thead>\n",
       "    <tr style=\"text-align: right;\">\n",
       "      <th></th>\n",
       "      <th>family_id</th>\n",
       "      <th>sequence_name</th>\n",
       "      <th>family_accession</th>\n",
       "      <th>aligned_sequence</th>\n",
       "      <th>sequence</th>\n",
       "    </tr>\n",
       "  </thead>\n",
       "  <tbody>\n",
       "    <tr>\n",
       "      <th>0</th>\n",
       "      <td>GMC_oxred_C</td>\n",
       "      <td>A4WZS5_RHOS5/416-539</td>\n",
       "      <td>PF05199.13</td>\n",
       "      <td>PHPE.SRIRLST.RRDAHGMP.....IP.RIESRLGP............</td>\n",
       "      <td>PHPESRIRLSTRRDAHGMPIPRIESRLGPDAFARLRFMARTCRAIL...</td>\n",
       "    </tr>\n",
       "    <tr>\n",
       "      <th>1</th>\n",
       "      <td>DUF2887</td>\n",
       "      <td>K9QI92_9NOSO/3-203</td>\n",
       "      <td>PF11103.8</td>\n",
       "      <td>RDSIYYQIFKRFPALIFEL..VD.NRPPQAQNYRFESVEVKETAFR...</td>\n",
       "      <td>RDSIYYQIFKRFPALIFELVDNRPPQAQNYRFESVEVKETAFRIDG...</td>\n",
       "    </tr>\n",
       "    <tr>\n",
       "      <th>2</th>\n",
       "      <td>zf-IS66</td>\n",
       "      <td>Q92LC9_RHIME/32-75</td>\n",
       "      <td>PF13005.7</td>\n",
       "      <td>.TCCPDCGG.E..LRLVGED.AS....EILDMI.AAQMKVIEVARL...</td>\n",
       "      <td>TCCPDCGGELRLVGEDASEILDMIAAQMKVIEVARLKKSCRCCE</td>\n",
       "    </tr>\n",
       "    <tr>\n",
       "      <th>3</th>\n",
       "      <td>Asp_decarbox</td>\n",
       "      <td>X2GQZ4_9BACI/1-115</td>\n",
       "      <td>PF02261.16</td>\n",
       "      <td>MLRMMMNSKIHRATVTEADLNYVGSITIDEDILDAVGMLPNEKVHI...</td>\n",
       "      <td>MLRMMMNSKIHRATVTEADLNYVGSITIDEDILDAVGMLPNEKVHI...</td>\n",
       "    </tr>\n",
       "    <tr>\n",
       "      <th>4</th>\n",
       "      <td>Filamin</td>\n",
       "      <td>A7SQM3_NEMVE/342-439</td>\n",
       "      <td>PF00630.19</td>\n",
       "      <td>TACPKQ.CTA....RGLG.............LK.AAPVT.QPT..R...</td>\n",
       "      <td>TACPKQCTARGLGLKAAPVTQPTRFVVILNDCHGQPLGRSEGELEV...</td>\n",
       "    </tr>\n",
       "  </tbody>\n",
       "</table>\n",
       "</div>"
      ],
      "text/plain": [
       "      family_id         sequence_name family_accession  \\\n",
       "0   GMC_oxred_C  A4WZS5_RHOS5/416-539       PF05199.13   \n",
       "1       DUF2887    K9QI92_9NOSO/3-203        PF11103.8   \n",
       "2       zf-IS66    Q92LC9_RHIME/32-75        PF13005.7   \n",
       "3  Asp_decarbox    X2GQZ4_9BACI/1-115       PF02261.16   \n",
       "4       Filamin  A7SQM3_NEMVE/342-439       PF00630.19   \n",
       "\n",
       "                                    aligned_sequence  \\\n",
       "0  PHPE.SRIRLST.RRDAHGMP.....IP.RIESRLGP............   \n",
       "1  RDSIYYQIFKRFPALIFEL..VD.NRPPQAQNYRFESVEVKETAFR...   \n",
       "2  .TCCPDCGG.E..LRLVGED.AS....EILDMI.AAQMKVIEVARL...   \n",
       "3  MLRMMMNSKIHRATVTEADLNYVGSITIDEDILDAVGMLPNEKVHI...   \n",
       "4  TACPKQ.CTA....RGLG.............LK.AAPVT.QPT..R...   \n",
       "\n",
       "                                            sequence  \n",
       "0  PHPESRIRLSTRRDAHGMPIPRIESRLGPDAFARLRFMARTCRAIL...  \n",
       "1  RDSIYYQIFKRFPALIFELVDNRPPQAQNYRFESVEVKETAFRIDG...  \n",
       "2       TCCPDCGGELRLVGEDASEILDMIAAQMKVIEVARLKKSCRCCE  \n",
       "3  MLRMMMNSKIHRATVTEADLNYVGSITIDEDILDAVGMLPNEKVHI...  \n",
       "4  TACPKQCTARGLGLKAAPVTQPTRFVVILNDCHGQPLGRSEGELEV...  "
      ]
     },
     "execution_count": 9,
     "metadata": {},
     "output_type": "execute_result"
    }
   ],
   "source": [
    "df_train.head()"
   ]
  },
  {
   "cell_type": "code",
   "execution_count": 10,
   "metadata": {
    "colab": {
     "base_uri": "https://localhost:8080/",
     "height": 34
    },
    "colab_type": "code",
    "id": "FZD6gGJLd7uB",
    "outputId": "bf474ea4-43a3-4e4e-d154-350b18cef59f"
   },
   "outputs": [
    {
     "data": {
      "text/plain": [
       "'PHPESRIRLSTRRDAHGMPIPRIESRLGPDAFARLRFMARTCRAILAAAGCAAPFEEFSSADAFSSTHVFGTCRMGHDPMRNVVDGWGRSHRWPNLFVADASLFPSSGGGESPGLTIQALALRT'"
      ]
     },
     "execution_count": 10,
     "metadata": {},
     "output_type": "execute_result"
    }
   ],
   "source": [
    "# ex: unaligned sequence\n",
    "# each character reperesents one of the 24(20 common + 4 uncommon) amino acids in the sequence.\n",
    "\n",
    "df_train.head(1)['sequence'].values[0]"
   ]
  },
  {
   "cell_type": "code",
   "execution_count": 11,
   "metadata": {
    "colab": {
     "base_uri": "https://localhost:8080/",
     "height": 67
    },
    "colab_type": "code",
    "id": "lYmykaXe3aKy",
    "outputId": "6df755e5-a1ca-4c71-e3eb-bbd939264790"
   },
   "outputs": [
    {
     "name": "stdout",
     "output_type": "stream",
     "text": [
      "Train size:  1086741\n",
      "Val size:  126171\n",
      "Test size:  126171\n"
     ]
    }
   ],
   "source": [
    "# Given data size\n",
    "print('Train size: ', len(df_train))\n",
    "print('Val size: ', len(df_val))\n",
    "print('Test size: ', len(df_test))"
   ]
  },
  {
   "cell_type": "code",
   "execution_count": 12,
   "metadata": {
    "colab": {},
    "colab_type": "code",
    "id": "hmjg-CbQyioF"
   },
   "outputs": [],
   "source": [
    "def calc_unique_cls(train, test, val):\n",
    "  \"\"\"\n",
    "  Prints # unique classes in data sets.\n",
    "  \"\"\"\n",
    "  train_unq = np.unique(train['family_accession'].values)\n",
    "  val_unq = np.unique(val['family_accession'].values)\n",
    "  test_unq = np.unique(test['family_accession'].values)\n",
    "\n",
    "  print('Number of unique classes in Train: ', len(train_unq))\n",
    "  print('Number of unique classes in Val: ', len(val_unq))\n",
    "  print('Number of unique classes in Test: ', len(test_unq))"
   ]
  },
  {
   "cell_type": "code",
   "execution_count": 13,
   "metadata": {
    "colab": {
     "base_uri": "https://localhost:8080/",
     "height": 67
    },
    "colab_type": "code",
    "id": "-2r0wIsBiy-c",
    "outputId": "a13676ba-448c-467e-a2ec-42b81b1a83d3"
   },
   "outputs": [
    {
     "name": "stdout",
     "output_type": "stream",
     "text": [
      "Number of unique classes in Train:  17929\n",
      "Number of unique classes in Val:  13071\n",
      "Number of unique classes in Test:  13071\n"
     ]
    }
   ],
   "source": [
    "# Unique classes in the given dataset : [df_train, df_val and df_test]\n",
    "\n",
    "calc_unique_cls(df_train, df_test, df_val)"
   ]
  },
  {
   "cell_type": "markdown",
   "metadata": {
    "colab_type": "text",
    "id": "7XvpRxecd_B1"
   },
   "source": [
    "### Sequence Counts"
   ]
  },
  {
   "cell_type": "code",
   "execution_count": 14,
   "metadata": {
    "colab": {},
    "colab_type": "code",
    "id": "ViaJx_Peu5y_"
   },
   "outputs": [],
   "source": [
    "# Length of sequence in train data.\n",
    "df_train['seq_char_count']= df_train['sequence'].apply(lambda x: len(x))\n",
    "df_val['seq_char_count']= df_val['sequence'].apply(lambda x: len(x))\n",
    "df_test['seq_char_count']= df_test['sequence'].apply(lambda x: len(x))"
   ]
  },
  {
   "cell_type": "code",
   "execution_count": 15,
   "metadata": {
    "colab": {},
    "colab_type": "code",
    "id": "ATEmEmeAYoeB"
   },
   "outputs": [],
   "source": [
    "def plot_seq_count(df, data_name):\n",
    "  sns.distplot(df['seq_char_count'].values)\n",
    "  plt.title(f'Sequence char count: {data_name}')\n",
    "  plt.grid(True)"
   ]
  },
  {
   "cell_type": "code",
   "execution_count": 16,
   "metadata": {
    "colab": {
     "base_uri": "https://localhost:8080/",
     "height": 282
    },
    "colab_type": "code",
    "id": "G1Mo0m3yFAFu",
    "outputId": "43fff7b5-7292-40c1-e8a5-cec23b7065ad"
   },
   "outputs": [
    {
     "data": {
      "image/png": "[encoded data removed]",
      "text/plain": [
       "<Figure size 432x288 with 3 Axes>"
      ]
     },
     "metadata": {
      "needs_background": "light"
     },
     "output_type": "display_data"
    }
   ],
   "source": [
    "plt.subplot(1, 3, 1)\n",
    "plot_seq_count(df_train, 'Train')\n",
    "\n",
    "plt.subplot(1, 3, 2)\n",
    "plot_seq_count(df_val, 'Val')\n",
    "\n",
    "plt.subplot(1, 3, 3)\n",
    "plot_seq_count(df_test, 'Test')\n",
    "\n",
    "plt.subplots_adjust(right=3.0)\n",
    "plt.show()"
   ]
  },
  {
   "cell_type": "markdown",
   "metadata": {
    "colab_type": "text",
    "id": "-ZIi2DB6bLpc"
   },
   "source": [
    "__Observation__\n",
    "- Most of the unaligned amino acid sequences have character counts in the range of 50-250."
   ]
  },
  {
   "cell_type": "markdown",
   "metadata": {
    "colab_type": "text",
    "id": "LFxzvA1oeJGm"
   },
   "source": [
    "### Sequence Code Frequency"
   ]
  },
  {
   "cell_type": "markdown",
   "metadata": {},
   "source": [
    "Amino acid sequences are represented with their corresponding 1 letter code, for example, code for alanine is (A), arginine is (R) and so on. The complete list of amino acids with there code can be found <a href='http://www.cryst.bbk.ac.uk/education/AminoAcid/the_twenty.html'>here</a>."
   ]
  },
  {
   "cell_type": "code",
   "execution_count": 17,
   "metadata": {
    "colab": {},
    "colab_type": "code",
    "id": "Mm54TAoH_C8t"
   },
   "outputs": [],
   "source": [
    "def get_code_freq(df, data_name):\n",
    "  \n",
    "  df = df.apply(lambda x: \" \".join(x))\n",
    "  \n",
    "  codes = []\n",
    "  for i in df: # concatination of all codes\n",
    "    codes.extend(i)\n",
    "\n",
    "  codes_dict= Counter(codes)\n",
    "  codes_dict.pop(' ') # removing white space\n",
    "  \n",
    "  print(f'Codes: {data_name}')\n",
    "  print(f'Total unique codes: {len(codes_dict.keys())}')\n",
    "\n",
    "  df = pd.DataFrame({'Code': list(codes_dict.keys()), 'Freq': list(codes_dict.values())})\n",
    "  return df.sort_values('Freq', ascending=False).reset_index()[['Code', 'Freq']]"
   ]
  },
  {
   "cell_type": "code",
   "execution_count": null,
   "metadata": {
    "colab": {
     "base_uri": "https://localhost:8080/",
     "height": 821
    },
    "colab_type": "code",
    "id": "lekmtCh9KXrY",
    "outputId": "c2bcd5c7-0cb4-448e-cb28-ec8786f81fbc"
   },
   "outputs": [],
   "source": [
    "# train code sequence\n",
    "train_code_freq = get_code_freq(df_train['sequence'], 'Train')\n",
    "train_code_freq"
   ]
  },
  {
   "cell_type": "code",
   "execution_count": null,
   "metadata": {
    "colab": {
     "base_uri": "https://localhost:8080/",
     "height": 732
    },
    "colab_type": "code",
    "id": "26OQZxJbDABI",
    "outputId": "cf8fbd67-a4c1-44f4-ada0-12b5529c9f20"
   },
   "outputs": [],
   "source": [
    "# val code sequence\n",
    "val_code_freq = get_code_freq(df_val['sequence'], 'Val')\n",
    "val_code_freq"
   ]
  },
  {
   "cell_type": "code",
   "execution_count": null,
   "metadata": {
    "colab": {
     "base_uri": "https://localhost:8080/",
     "height": 791
    },
    "colab_type": "code",
    "id": "CEcQG5Y2CVvA",
    "outputId": "8e7f8cd4-adc1-415c-9ed4-e0a0dfd50cd0"
   },
   "outputs": [],
   "source": [
    "# test code sequence\n",
    "test_code_freq = get_code_freq(df_test['sequence'], 'Test')\n",
    "test_code_freq"
   ]
  },
  {
   "cell_type": "code",
   "execution_count": null,
   "metadata": {
    "colab": {},
    "colab_type": "code",
    "id": "Vsp8Bd37DQi4"
   },
   "outputs": [],
   "source": [
    "def plot_code_freq(df, data_name):\n",
    "  \n",
    "  plt.title(f'Code frequency: {data_name}')\n",
    "  sns.barplot(x='Code', y='Freq', data=df)"
   ]
  },
  {
   "cell_type": "code",
   "execution_count": null,
   "metadata": {
    "colab": {
     "base_uri": "https://localhost:8080/",
     "height": 299
    },
    "colab_type": "code",
    "id": "hqpczOVOF8sA",
    "outputId": "f1917b77-bdc4-405f-bd62-4d1ffebc1069"
   },
   "outputs": [],
   "source": [
    "plt.subplot(1, 3, 1)\n",
    "plot_code_freq(train_code_freq, 'Train')\n",
    "\n",
    "plt.subplot(1, 3, 2)\n",
    "plot_code_freq(val_code_freq, 'Val')\n",
    "\n",
    "plt.subplot(1, 3, 3)\n",
    "plot_code_freq(test_code_freq, 'Test')\n",
    "\n",
    "plt.subplots_adjust(right=3.0)\n",
    "plt.show()"
   ]
  },
  {
   "cell_type": "markdown",
   "metadata": {
    "colab_type": "text",
    "id": "J_SB86pZzCIq"
   },
   "source": [
    "__Observations__\n",
    "- Most frequent amino acid code is L followed by A, V, G.\n",
    "- As we can see, that the uncommon amino acids (i.e., X, U, B, O, Z) are present in very less quantity. Therefore we can consider only 20 common natural amino acids for sequence encoding."
   ]
  },
  {
   "cell_type": "markdown",
   "metadata": {
    "colab_type": "text",
    "id": "08mVHtLVfCmp"
   },
   "source": [
    "### Protein families with most sequences(No. of observations)"
   ]
  },
  {
   "cell_type": "code",
   "execution_count": null,
   "metadata": {
    "colab": {
     "base_uri": "https://localhost:8080/",
     "height": 386
    },
    "colab_type": "code",
    "id": "VOx7dLl4uVwd",
    "outputId": "f81e1563-a81e-4899-8256-074d6d8d5ffc"
   },
   "outputs": [],
   "source": [
    "df_train.groupby('family_id').size().sort_values(ascending=False).head(20)"
   ]
  },
  {
   "cell_type": "code",
   "execution_count": null,
   "metadata": {
    "colab": {
     "base_uri": "https://localhost:8080/",
     "height": 386
    },
    "colab_type": "code",
    "id": "PFc1swdQ7fA3",
    "outputId": "5a2628fd-adff-4951-a8e2-2aa1d1317dfc"
   },
   "outputs": [],
   "source": [
    "df_val.groupby('family_id').size().sort_values(ascending=False).head(20)"
   ]
  },
  {
   "cell_type": "code",
   "execution_count": null,
   "metadata": {
    "colab": {
     "base_uri": "https://localhost:8080/",
     "height": 386
    },
    "colab_type": "code",
    "id": "XYKZ-oedp5JQ",
    "outputId": "8948b589-b5f0-4cb4-ab1e-320cfd73591b"
   },
   "outputs": [],
   "source": [
    "df_test.groupby('family_id').size().sort_values(ascending=False).head(20)"
   ]
  },
  {
   "cell_type": "markdown",
   "metadata": {},
   "source": [
    "__Observation__\n",
    "\n",
    "- Top 20 classes are same across all the sets [train, test, val].\n",
    "- Test and Val sets have almost same frequency for the top 20 classes."
   ]
  },
  {
   "cell_type": "markdown",
   "metadata": {
    "colab_type": "text",
    "id": "TGQw5qydpFw5"
   },
   "source": [
    "### Considering 1000 classes based on no. of observations."
   ]
  },
  {
   "cell_type": "code",
   "execution_count": null,
   "metadata": {
    "colab": {
     "base_uri": "https://localhost:8080/",
     "height": 34
    },
    "colab_type": "code",
    "id": "bOGBUMFw-CdY",
    "outputId": "07b4ac68-da22-447c-f504-ec3d28c79552"
   },
   "outputs": [],
   "source": [
    "# Considering top 1000 classes based on most observations because of limited computational power.\n",
    "\n",
    "classes = df_train['family_accession'].value_counts()[:1000].index.tolist()\n",
    "len(classes)"
   ]
  },
  {
   "cell_type": "code",
   "execution_count": null,
   "metadata": {
    "colab": {
     "base_uri": "https://localhost:8080/",
     "height": 84
    },
    "colab_type": "code",
    "id": "Ctv5whnYk8FL",
    "outputId": "fc992b26-c07c-453c-cb1a-d1da2f9e54c8"
   },
   "outputs": [],
   "source": [
    "# Filtering data based on considered 1000 classes.\n",
    "train_sm = df_train.loc[df_train['family_accession'].isin(classes)].reset_index()\n",
    "val_sm = df_val.loc[df_val['family_accession'].isin(classes)].reset_index()\n",
    "test_sm = df_test.loc[df_test['family_accession'].isin(classes)].reset_index()\n",
    "\n",
    "print('Data size after considering 1000 classes for each data split:')\n",
    "print('Train size :', len(train_sm))\n",
    "print('Val size :', len(val_sm))\n",
    "print('Test size :', len(test_sm))"
   ]
  },
  {
   "cell_type": "code",
   "execution_count": null,
   "metadata": {
    "colab": {
     "base_uri": "https://localhost:8080/",
     "height": 67
    },
    "colab_type": "code",
    "id": "0sRhsRRqUGGV",
    "outputId": "bee31926-b35b-4d12-eb75-e35109705744"
   },
   "outputs": [],
   "source": [
    "# No. of unique classes after reducing the data size.\n",
    "\n",
    "calc_unique_cls(train_sm, test_sm, val_sm)"
   ]
  },
  {
   "cell_type": "markdown",
   "metadata": {
    "colab_type": "text",
    "id": "_aPR87m9hYV2"
   },
   "source": [
    "## 4. Deep Learning Models"
   ]
  },
  {
   "cell_type": "markdown",
   "metadata": {
    "colab_type": "text",
    "id": "LHh3AXwNp7Yv"
   },
   "source": [
    "### Text Preprocessing"
   ]
  },
  {
   "cell_type": "code",
   "execution_count": null,
   "metadata": {
    "colab": {
     "base_uri": "https://localhost:8080/",
     "height": 50
    },
    "colab_type": "code",
    "id": "D16pJrHvqDdU",
    "outputId": "0ff0f88d-18b2-4fff-c65f-1108c58707aa"
   },
   "outputs": [],
   "source": [
    "# https://dmnfarrell.github.io/bioinformatics/mhclearning\n",
    "# http://www.cryst.bbk.ac.uk/education/AminoAcid/the_twenty.html\n",
    "# 1 letter code for 20 natural amino acids\n",
    "\n",
    "codes = ['A', 'C', 'D', 'E', 'F', 'G', 'H', 'I', 'K', 'L',\n",
    "         'M', 'N', 'P', 'Q', 'R', 'S', 'T', 'V', 'W', 'Y']\n",
    "\n",
    "def create_dict(codes):\n",
    "  char_dict = {}\n",
    "  for index, val in enumerate(codes):\n",
    "    char_dict[val] = index+1\n",
    "\n",
    "  return char_dict\n",
    "\n",
    "char_dict = create_dict(codes)\n",
    "\n",
    "print(char_dict)\n",
    "print(\"Dict Length:\", len(char_dict))"
   ]
  },
  {
   "cell_type": "code",
   "execution_count": null,
   "metadata": {
    "colab": {},
    "colab_type": "code",
    "id": "dN92LSEG62zX"
   },
   "outputs": [],
   "source": [
    "def integer_encoding(data):\n",
    "  \"\"\"\n",
    "  - Encodes code sequence to integer values.\n",
    "  - 20 common amino acids are taken into consideration\n",
    "    and rest 4 are categorized as 0.\n",
    "  \"\"\"\n",
    "  \n",
    "  encode_list = []\n",
    "  for row in data['sequence'].values:\n",
    "    row_encode = []\n",
    "    for code in row:\n",
    "      row_encode.append(char_dict.get(code, 0))\n",
    "    encode_list.append(np.array(row_encode))\n",
    "  \n",
    "  return encode_list"
   ]
  },
  {
   "cell_type": "code",
   "execution_count": null,
   "metadata": {
    "colab": {},
    "colab_type": "code",
    "id": "2SW62zkr7Xzf"
   },
   "outputs": [],
   "source": [
    "train_encode = integer_encoding(train_sm) \n",
    "val_encode = integer_encoding(val_sm) \n",
    "test_encode = integer_encoding(test_sm) "
   ]
  },
  {
   "cell_type": "code",
   "execution_count": null,
   "metadata": {
    "colab": {
     "base_uri": "https://localhost:8080/",
     "height": 34
    },
    "colab_type": "code",
    "id": "0_vX2hJJ7noX",
    "outputId": "6175a913-7b43-4283-9353-477f809f23d7"
   },
   "outputs": [],
   "source": [
    "# padding sequences\n",
    "\n",
    "max_length = 100\n",
    "train_pad = pad_sequences(train_encode, maxlen=max_length, padding='post', truncating='post')\n",
    "val_pad = pad_sequences(val_encode, maxlen=max_length, padding='post', truncating='post')\n",
    "test_pad = pad_sequences(test_encode, maxlen=max_length, padding='post', truncating='post')\n",
    "\n",
    "train_pad.shape, val_pad.shape, test_pad.shape"
   ]
  },
  {
   "cell_type": "code",
   "execution_count": null,
   "metadata": {
    "colab": {
     "base_uri": "https://localhost:8080/",
     "height": 34
    },
    "colab_type": "code",
    "id": "3MNzmuhn9zTJ",
    "outputId": "55c143ec-aed3-4bb4-d88b-7720a7651ae5"
   },
   "outputs": [],
   "source": [
    "# One hot encoding of sequences\n",
    "\n",
    "train_ohe = to_categorical(train_pad)\n",
    "val_ohe = to_categorical(val_pad)\n",
    "test_ohe = to_categorical(test_pad)\n",
    "\n",
    "train_ohe.shape, test_ohe.shape, test_ohe.shape "
   ]
  },
  {
   "cell_type": "code",
   "execution_count": null,
   "metadata": {
    "colab": {},
    "colab_type": "code",
    "id": "REZ9V0mt_v8Y"
   },
   "outputs": [],
   "source": [
    "# del train_pad, val_pad, test_pad\n",
    "# del train_encode, val_encode, test_encode\n",
    "\n",
    "# gc.collect()"
   ]
  },
  {
   "cell_type": "code",
   "execution_count": null,
   "metadata": {
    "colab": {
     "base_uri": "https://localhost:8080/",
     "height": 34
    },
    "colab_type": "code",
    "id": "cOdjjL1mLMko",
    "outputId": "207f7985-fe44-49b4-d9a6-161d4eaf582b"
   },
   "outputs": [],
   "source": [
    "# label/integer encoding output variable: (y)\n",
    "le = LabelEncoder()\n",
    "\n",
    "y_train_le = le.fit_transform(train_sm['family_accession'])\n",
    "y_val_le = le.transform(val_sm['family_accession'])\n",
    "y_test_le = le.transform(test_sm['family_accession'])\n",
    "\n",
    "y_train_le.shape, y_val_le.shape, y_test_le.shape"
   ]
  },
  {
   "cell_type": "code",
   "execution_count": null,
   "metadata": {
    "colab": {
     "base_uri": "https://localhost:8080/",
     "height": 34
    },
    "colab_type": "code",
    "id": "1r-g3zHcNe5o",
    "outputId": "03227960-c615-4a41-d315-c522151c350a"
   },
   "outputs": [],
   "source": [
    "print('Total classes: ', len(le.classes_))\n",
    "# le.classes_"
   ]
  },
  {
   "cell_type": "code",
   "execution_count": null,
   "metadata": {
    "colab": {
     "base_uri": "https://localhost:8080/",
     "height": 34
    },
    "colab_type": "code",
    "id": "er4ArjShGnV3",
    "outputId": "79a9fc8c-b430-4971-e338-b8cef5868d42"
   },
   "outputs": [],
   "source": [
    "# One hot encoding of outputs\n",
    "y_train = to_categorical(y_train_le)\n",
    "y_val = to_categorical(y_val_le)\n",
    "y_test = to_categorical(y_test_le)\n",
    "\n",
    "y_train.shape, y_val.shape, y_test.shape"
   ]
  },
  {
   "cell_type": "code",
   "execution_count": null,
   "metadata": {
    "colab": {},
    "colab_type": "code",
    "id": "ADeDl5u7whSp"
   },
   "outputs": [],
   "source": [
    "# Utility function: plot model's accuracy and loss\n",
    "\n",
    "# https://realpython.com/python-keras-text-classification/\n",
    "plt.style.use('ggplot')\n",
    "\n",
    "def plot_history(history):\n",
    "  acc = history.history['acc']\n",
    "  val_acc = history.history['val_acc']\n",
    "  loss = history.history['loss']\n",
    "  val_loss = history.history['val_loss']\n",
    "  x = range(1, len(acc) + 1)\n",
    "\n",
    "  plt.figure(figsize=(12, 5))\n",
    "  plt.subplot(1, 2, 1)\n",
    "  plt.plot(x, acc, 'b', label='Training acc')\n",
    "  plt.plot(x, val_acc, 'r', label='Validation acc')\n",
    "  plt.title('Training and validation accuracy')\n",
    "  plt.legend()\n",
    "\n",
    "  plt.subplot(1, 2, 2)\n",
    "  plt.plot(x, loss, 'b', label='Training loss')\n",
    "  plt.plot(x, val_loss, 'r', label='Validation loss')\n",
    "  plt.title('Training and validation loss')\n",
    "  plt.legend()"
   ]
  },
  {
   "cell_type": "code",
   "execution_count": null,
   "metadata": {
    "colab": {},
    "colab_type": "code",
    "id": "GG5UJlgsK0z6"
   },
   "outputs": [],
   "source": [
    "# Utility function: Display model score(Loss & Accuracy) across all sets.\n",
    "\n",
    "def display_model_score(model, train, val, test, batch_size):\n",
    "\n",
    "  train_score = model.evaluate(train[0], train[1], batch_size=batch_size, verbose=1)\n",
    "  print('Train loss: ', train_score[0])\n",
    "  print('Train accuracy: ', train_score[1])\n",
    "  print('-'*70)\n",
    "\n",
    "  val_score = model.evaluate(val[0], val[1], batch_size=batch_size, verbose=1)\n",
    "  print('Val loss: ', val_score[0])\n",
    "  print('Val accuracy: ', val_score[1])\n",
    "  print('-'*70)\n",
    "  \n",
    "  test_score = model.evaluate(test[0], test[1], batch_size=batch_size, verbose=1)\n",
    "  print('Test loss: ', test_score[0])\n",
    "  print('Test accuracy: ', test_score[1])"
   ]
  },
  {
   "cell_type": "markdown",
   "metadata": {
    "colab_type": "text",
    "id": "0GQ3x4L6hKOY"
   },
   "source": [
    "### Model 1: Bidirectional LSTM"
   ]
  },
  {
   "cell_type": "code",
   "execution_count": null,
   "metadata": {
    "colab": {
     "base_uri": "https://localhost:8080/",
     "height": 319
    },
    "colab_type": "code",
    "id": "ERfM44Zk0dcz",
    "outputId": "e8fa2245-e20d-422f-ec08-9b5e7c54f558"
   },
   "outputs": [],
   "source": [
    "x_input = Input(shape=(100,))\n",
    "emb = Embedding(21, 128, input_length=max_length)(x_input)\n",
    "bi_rnn = Bidirectional(LSTM(64, kernel_regularizer=l2(0.01), recurrent_regularizer=l2(0.01), bias_regularizer=l2(0.01)))(emb)\n",
    "x = Dropout(0.3)(bi_rnn)\n",
    "\n",
    "# softmax classifier\n",
    "x_output = Dense(1000, activation='softmax')(x)\n",
    "\n",
    "model1 = Model(inputs=x_input, outputs=x_output)\n",
    "model1.compile(optimizer='adam', loss='categorical_crossentropy', metrics=['acc'])\n",
    "\n",
    "model1.summary()"
   ]
  },
  {
   "cell_type": "code",
   "execution_count": null,
   "metadata": {
    "colab": {},
    "colab_type": "code",
    "id": "DbpNEd2nmySw"
   },
   "outputs": [],
   "source": [
    "# Early Stopping\n",
    "es = EarlyStopping(monitor='val_loss', patience=3, verbose=1)"
   ]
  },
  {
   "cell_type": "code",
   "execution_count": null,
   "metadata": {
    "colab": {
     "base_uri": "https://localhost:8080/",
     "height": 1000
    },
    "colab_type": "code",
    "id": "rojzazHe0hlN",
    "outputId": "17222b58-54be-47ac-90eb-a9cdd75bffe5",
    "scrolled": true
   },
   "outputs": [],
   "source": [
    "history1 = model1.fit(\n",
    "    train_pad, y_train,\n",
    "    epochs=50, batch_size=256,\n",
    "    validation_data=(val_pad, y_val),\n",
    "    callbacks=[es]\n",
    "    )"
   ]
  },
  {
   "cell_type": "code",
   "execution_count": 49,
   "metadata": {
    "colab": {},
    "colab_type": "code",
    "id": "AzBvM1RHqxgg"
   },
   "outputs": [],
   "source": [
    "# saving model weights.\n",
    "model1.save_weights('weights/model1.h5')"
   ]
  },
  {
   "cell_type": "code",
   "execution_count": 50,
   "metadata": {
    "colab": {
     "base_uri": "https://localhost:8080/",
     "height": 337
    },
    "colab_type": "code",
    "id": "FvmHIj9gG9VP",
    "outputId": "d66c6376-d696-4bb6-f11f-caff6e8783ab"
   },
   "outputs": [
    {
     "data": {
      "image/png": "[encoded data removed]",
      "text/plain": [
       "<Figure size 864x360 with 2 Axes>"
      ]
     },
     "metadata": {},
     "output_type": "display_data"
    }
   ],
   "source": [
    "plot_history(history1)"
   ]
  },
  {
   "cell_type": "code",
   "execution_count": 1,
   "metadata": {},
   "outputs": [
    {
     "ename": "NameError",
     "evalue": "name 'y_train' is not defined",
     "output_type": "error",
     "traceback": [
      "\u001b[1;31m---------------------------------------------------------------------------\u001b[0m",
      "\u001b[1;31mNameError\u001b[0m                                 Traceback (most recent call last)",
      "\u001b[1;32m<ipython-input-1-88bebfeb8979>\u001b[0m in \u001b[0;36m<module>\u001b[1;34m\u001b[0m\n\u001b[0;32m      1\u001b[0m \u001b[1;32mimport\u001b[0m \u001b[0mrandom\u001b[0m\u001b[1;33m\u001b[0m\u001b[0m\n\u001b[1;32m----> 2\u001b[1;33m \u001b[0my_train\u001b[0m\u001b[1;33m=\u001b[0m\u001b[0my_train\u001b[0m\u001b[1;33m-\u001b[0m\u001b[1;33m(\u001b[0m\u001b[0mrandom\u001b[0m\u001b[1;33m.\u001b[0m\u001b[0mrandom\u001b[0m\u001b[1;33m(\u001b[0m\u001b[1;36m0.0\u001b[0m\u001b[1;33m,\u001b[0m\u001b[1;36m3.0\u001b[0m\u001b[1;33m)\u001b[0m\u001b[1;33m)\u001b[0m\u001b[1;33m\u001b[0m\u001b[0m\n\u001b[0m",
      "\u001b[1;31mNameError\u001b[0m: name 'y_train' is not defined"
     ]
    }
   ],
   "source": [
    "import random\n",
    "y_train=y_train-(random.random(0.0,3.0))"
   ]
  },
  {
   "cell_type": "code",
   "execution_count": 2,
   "metadata": {
    "colab": {
     "base_uri": "https://localhost:8080/",
     "height": 202
    },
    "colab_type": "code",
    "id": "VlW0i0DiLVI6",
    "outputId": "30afcf5f-1213-4f66-ff37-4faf92fdd404"
   },
   "outputs": [
    {
     "ename": "NameError",
     "evalue": "name 'display_model_score' is not defined",
     "output_type": "error",
     "traceback": [
      "\u001b[1;31m---------------------------------------------------------------------------\u001b[0m",
      "\u001b[1;31mNameError\u001b[0m                                 Traceback (most recent call last)",
      "\u001b[1;32m<ipython-input-2-2ea78866d497>\u001b[0m in \u001b[0;36m<module>\u001b[1;34m\u001b[0m\n\u001b[1;32m----> 1\u001b[1;33m display_model_score(model1,\n\u001b[0m\u001b[0;32m      2\u001b[0m     \u001b[1;33m[\u001b[0m\u001b[0mtrain_pad\u001b[0m\u001b[1;33m,\u001b[0m \u001b[0my_train\u001b[0m\u001b[1;33m]\u001b[0m\u001b[1;33m,\u001b[0m\u001b[1;33m\u001b[0m\u001b[0m\n\u001b[0;32m      3\u001b[0m     \u001b[1;33m[\u001b[0m\u001b[0mval_pad\u001b[0m\u001b[1;33m,\u001b[0m \u001b[0my_val\u001b[0m\u001b[1;33m]\u001b[0m\u001b[1;33m,\u001b[0m\u001b[1;33m\u001b[0m\u001b[0m\n\u001b[0;32m      4\u001b[0m     \u001b[1;33m[\u001b[0m\u001b[0mtest_pad\u001b[0m\u001b[1;33m,\u001b[0m \u001b[0my_test\u001b[0m\u001b[1;33m]\u001b[0m\u001b[1;33m,\u001b[0m\u001b[1;33m\u001b[0m\u001b[0m\n\u001b[0;32m      5\u001b[0m     256)\n",
      "\u001b[1;31mNameError\u001b[0m: name 'display_model_score' is not defined"
     ]
    }
   ],
   "source": [
    "display_model_score(model1,\n",
    "    [train_pad, y_train],\n",
    "    [val_pad, y_val],\n",
    "    [test_pad, y_test],\n",
    "    256)"
   ]
  },
  {
   "cell_type": "markdown",
   "metadata": {
    "colab_type": "text",
    "id": "8Lip5vCthFn_"
   },
   "source": [
    "### Model 2: ProtCNN"
   ]
  },
  {
   "cell_type": "markdown",
   "metadata": {
    "colab_type": "text",
    "id": "wxdIXVy-fDyz"
   },
   "source": [
    "<br/>\n",
    "<center><img src='https://www.biorxiv.org/content/biorxiv/early/2019/07/15/626507/F6.large.jpg' height='470' width='700'></center>\n",
    "\n",
    "<br/>"
   ]
  },
  {
   "cell_type": "markdown",
   "metadata": {
    "colab_type": "text",
    "id": "BgX7fQhjkkcD"
   },
   "source": [
    "- One hot encoded unaligned sequence of amino acids is passed as the input to the network with zero padding.\n",
    "\n",
    "- This network uses residual blocks inspired from [ResNet](https://arxiv.org/abs/1512.03385) architecture which also includes dilated convolutions offering larger receptive field without increasing number of model parameters."
   ]
  },
  {
   "cell_type": "code",
   "execution_count": 0,
   "metadata": {
    "colab": {},
    "colab_type": "code",
    "id": "otNM0HBpZ_CL"
   },
   "outputs": [],
   "source": [
    "def residual_block(data, filters, d_rate):\n",
    "  \"\"\"\n",
    "  _data: input\n",
    "  _filters: convolution filters\n",
    "  _d_rate: dilation rate\n",
    "  \"\"\"\n",
    "\n",
    "  shortcut = data\n",
    "\n",
    "  bn1 = BatchNormalization()(data)\n",
    "  act1 = Activation('relu')(bn1)\n",
    "  conv1 = Conv1D(filters, 1, dilation_rate=d_rate, padding='same', kernel_regularizer=l2(0.001))(act1)\n",
    "\n",
    "  #bottleneck convolution\n",
    "  bn2 = BatchNormalization()(conv1)\n",
    "  act2 = Activation('relu')(bn2)\n",
    "  conv2 = Conv1D(filters, 3, padding='same', kernel_regularizer=l2(0.001))(act2)\n",
    "\n",
    "  #skip connection\n",
    "  x = Add()([conv2, shortcut])\n",
    "\n",
    "  return x"
   ]
  },
  {
   "cell_type": "code",
   "execution_count": 9,
   "metadata": {},
   "outputs": [],
   "source": [
    "class ConvBlock(chainer.Chain):\n",
    "    def __init__(self, ksize, n_out, initializer):\n",
    "        super(ConvBlock, self).__init__()\n",
    "        pad_size = ksize // 2\n",
    "        links = [('conv1', L.Convolution2D(None, n_out, ksize, pad=pad_size, initialW=initializer))]\n",
    "        links += [('bn1', L.BatchNormalization(n_out))]\n",
    "        for link in links:\n",
    "            self.add_link(*link)\n",
    "        self.forward = links\n",
    "    \n",
    "    def __call__(self, x, train):\n",
    "        param_num = 0\n",
    "        for name, f in self.forward:\n",
    "            if 'conv1' in name:\n",
    "                x = getattr(self, name)(x)\n",
    "                param_num += (f.W.shape[0]*f.W.shape[2]*f.W.shape[3]*f.W.shape[1]+f.W.shape[0])\n",
    "            elif 'bn1' in name:\n",
    "                x = getattr(self, name)(x, not train)\n",
    "                param_num += x.data.shape[1]*2\n",
    "        return (F.relu(x), param_num)"
   ]
  },
  {
   "cell_type": "code",
   "execution_count": 10,
   "metadata": {},
   "outputs": [],
   "source": [
    "class ResBlock(chainer.Chain):\n",
    "    def __init__(self, ksize, n_out, initializer):\n",
    "        super(ResBlock, self).__init__()\n",
    "        pad_size = ksize // 2\n",
    "        links  = [('conv1', L.Convolution2D(None, n_out, ksize, pad=pad_size, initialW=initializer))]\n",
    "        links += [('bn1', L.BatchNormalization(n_out))]\n",
    "        links += [('_act1', F.ReLU())]\n",
    "        links += [('conv2', L.Convolution2D(n_out, n_out, ksize, pad=pad_size, initialW=initializer))]\n",
    "        links += [('bn2', L.BatchNormalization(n_out))]\n",
    "        for link in links:\n",
    "            if not link[0].startswith('_'):\n",
    "                self.add_link(*link)\n",
    "        self.forward = links\n",
    "    \n",
    "    def __call__(self, x, h, train):\n",
    "        xp = chainer.cuda.get_array_module(x)\n",
    "        param_num = 0\n",
    "        for name, f in self.forward:\n",
    "            if 'conv' in name:\n",
    "                x = getattr(self, name)(x)\n",
    "                param_num += (f.W.shape[0]*f.W.shape[2]*f.W.shape[3]*f.W.shape[1]+f.W.shape[0])\n",
    "            elif 'bn' in name:\n",
    "                x = getattr(self, name)(x, not train)\n",
    "                param_num += x.data.shape[1]*2\n",
    "            elif 'act' in name:\n",
    "                x = f(x)\n",
    "            else:\n",
    "                print('not defined function at ResBlock __call__')\n",
    "                exit(1)\n",
    "        in_data = [x, h]\n",
    "        # check of the image size\n",
    "        small_in_id, large_in_id = (0, 1) if in_data[0].shape[2] < in_data[1].shape[2] else (1, 0)\n",
    "        pool_num = xp.floor(xp.log2(in_data[large_in_id].shape[2] / in_data[small_in_id].shape[2]))\n",
    "        for _ in xp.arange(pool_num):\n",
    "            in_data[large_in_id] = F.max_pooling_2d(in_data[large_in_id], self.pool_size, self.pool_size, 0, False)\n",
    "        # check of the channel size\n",
    "        small_ch_id, large_ch_id = (0, 1) if in_data[0].shape[1] < in_data[1].shape[1] else (1, 0)\n",
    "        pad_num = int(in_data[large_ch_id].shape[1] - in_data[small_ch_id].shape[1])\n",
    "        tmp = in_data[large_ch_id][:, :pad_num, :, :]\n",
    "        in_data[small_ch_id] = F.concat((in_data[small_ch_id], tmp * 0), axis=1)\n",
    "        return (F.relu(in_data[0]+in_data[1]), param_num)"
   ]
  },
  {
   "cell_type": "code",
   "execution_count": 11,
   "metadata": {},
   "outputs": [],
   "source": [
    "class CGP2CNN(chainer.Chain):\n",
    "    def __init__(self, cgp, n_class, lossfun=softmax_cross_entropy.softmax_cross_entropy, accfun=accuracy.accuracy):\n",
    "        super(CGP2CNN, self).__init__()\n",
    "        self.cgp = cgp\n",
    "        self.pool_size = 2\n",
    "        initializer = chainer.initializers.HeNormal()\n",
    "        links = []\n",
    "        i = 1\n",
    "        for name, in1, in2 in self.cgp:\n",
    "            if name == 'pool_max':\n",
    "                links += [('_'+name+'_'+str(i), F.MaxPooling2D(self.pool_size, self.pool_size, 0, False))]\n",
    "            elif name == 'pool_ave':\n",
    "                links += [('_'+name+'_'+str(i), F.AveragePooling2D(self.pool_size, self.pool_size, 0, False))]\n",
    "            elif name == 'concat':\n",
    "                links += [('_'+name+'_'+str(i), F.Concat())]\n",
    "            elif name == 'sum':\n",
    "                links += [('_'+name+'_'+str(i), F.Concat())] # the F.Concat() is dummy\n",
    "            elif name == 'ConvBlock32_3':\n",
    "                links += [(name+'_'+str(i), ConvBlock(3, 32, initializer))]\n",
    "            elif name == 'ConvBlock32_5':\n",
    "                links += [(name+'_'+str(i), ConvBlock(5, 32, initializer))]\n",
    "            elif name == 'ConvBlock32_7':\n",
    "                links += [(name+'_'+str(i), ConvBlock(7, 32, initializer))]\n",
    "            elif name == 'ConvBlock64_3':\n",
    "                links += [(name+'_'+str(i), ConvBlock(3, 64, initializer))]\n",
    "            elif name == 'ConvBlock64_5':\n",
    "                links += [(name+'_'+str(i), ConvBlock(5, 64, initializer))]\n",
    "            elif name == 'ConvBlock64_7':\n",
    "                links += [(name+'_'+str(i), ConvBlock(7, 64, initializer))]\n",
    "            elif name == 'ConvBlock128_3':\n",
    "                links += [(name+'_'+str(i), ConvBlock(3, 128, initializer))]\n",
    "            elif name == 'ConvBlock128_5':\n",
    "                links += [(name+'_'+str(i), ConvBlock(5, 128, initializer))]\n",
    "            elif name == 'ConvBlock128_7':\n",
    "                links += [(name+'_'+str(i), ConvBlock(7, 128, initializer))]\n",
    "            elif name == 'ResBlock32_3':\n",
    "                links += [(name+'_'+str(i), ResBlock(3, 32, initializer))]\n",
    "            elif name == 'ResBlock32_5':\n",
    "                links += [(name+'_'+str(i), ResBlock(5, 32, initializer))]\n",
    "            elif name == 'ResBlock32_7':\n",
    "                links += [(name+'_'+str(i), ResBlock(7, 32, initializer))]\n",
    "            elif name == 'ResBlock64_3':\n",
    "                links += [(name+'_'+str(i), ResBlock(3, 64, initializer))]\n",
    "            elif name == 'ResBlock64_5':\n",
    "                links += [(name+'_'+str(i), ResBlock(5, 64, initializer))]\n",
    "            elif name == 'ResBlock64_7':\n",
    "                links += [(name+'_'+str(i), ResBlock(7, 64, initializer))]\n",
    "            elif name == 'ResBlock128_3':\n",
    "                links += [(name+'_'+str(i), ResBlock(3, 128, initializer))]\n",
    "            elif name == 'ResBlock128_5':\n",
    "                links += [(name+'_'+str(i), ResBlock(5, 128, initializer))]\n",
    "            elif name == 'ResBlock128_7':\n",
    "                links += [(name+'_'+str(i), ResBlock(7, 128, initializer))]\n",
    "            elif name == 'full':\n",
    "                links += [(name+'_'+str(i), L.Linear(None, n_class, initialW=initializer))]\n",
    "            i += 1\n",
    "        for link in links:\n",
    "            if not link[0].startswith('_'):\n",
    "                self.add_link(*link)\n",
    "        self.forward = links\n",
    "        self.train = True\n",
    "        self.lossfun = lossfun\n",
    "        self.accfun = accfun\n",
    "        self.loss = None\n",
    "        self.accuracy = None\n",
    "        self.outputs = [None for _ in range(len(self.cgp))]\n",
    "        self.param_num = 0\n",
    "\n",
    "    def __call__(self, x, t):\n",
    "        xp = chainer.cuda.get_array_module(x)\n",
    "        outputs = self.outputs\n",
    "        outputs[0] = x    # input image\n",
    "        nodeID = 1\n",
    "        param_num = 0\n",
    "        for name, f in self.forward:\n",
    "            if 'ConvBlock' in name:\n",
    "                outputs[nodeID], tmp_num = getattr(self, name)(outputs[self.cgp[nodeID][1]], self.train)\n",
    "                nodeID += 1\n",
    "                param_num += tmp_num\n",
    "            elif 'ResBlock' in name:\n",
    "                outputs[nodeID], tmp_num = getattr(self, name)(outputs[self.cgp[nodeID][1]], outputs[self.cgp[nodeID][1]], self.train)\n",
    "                nodeID += 1\n",
    "                param_num += tmp_num\n",
    "            elif 'pool' in name:\n",
    "                # check of the image size\n",
    "                if outputs[self.cgp[nodeID][1]].shape[2] > 1:\n",
    "                    outputs[nodeID] = f(outputs[self.cgp[nodeID][1]])\n",
    "                    nodeID += 1\n",
    "                else:\n",
    "                    outputs[nodeID] = outputs[self.cgp[nodeID][1]]\n",
    "                    nodeID += 1\n",
    "            elif 'concat' in name:\n",
    "                in_data = [outputs[self.cgp[nodeID][1]], outputs[self.cgp[nodeID][2]]]\n",
    "                # check of the image size\n",
    "                small_in_id, large_in_id = (0, 1) if in_data[0].shape[2] < in_data[1].shape[2] else (1, 0)\n",
    "                pool_num = xp.floor(xp.log2(in_data[large_in_id].shape[2] / in_data[small_in_id].shape[2]))\n",
    "                for _ in xp.arange(pool_num):\n",
    "                    in_data[large_in_id] = F.max_pooling_2d(in_data[large_in_id], self.pool_size, self.pool_size, 0, False)\n",
    "                # concat\n",
    "                outputs[nodeID] = f(in_data[0], in_data[1])\n",
    "                nodeID += 1\n",
    "            elif 'sum' in name:\n",
    "                in_data = [outputs[self.cgp[nodeID][1]], outputs[self.cgp[nodeID][2]]]\n",
    "                # check of the image size\n",
    "                small_in_id, large_in_id = (0, 1) if in_data[0].shape[2] < in_data[1].shape[2] else (1, 0)\n",
    "                pool_num = xp.floor(xp.log2(in_data[large_in_id].shape[2] / in_data[small_in_id].shape[2]))\n",
    "                for _ in xp.arange(pool_num):\n",
    "                    in_data[large_in_id] = F.max_pooling_2d(in_data[large_in_id], self.pool_size, self.pool_size, 0, False)\n",
    "                # check of the channel size\n",
    "                small_ch_id, large_ch_id = (0, 1) if in_data[0].shape[1] < in_data[1].shape[1] else (1, 0)\n",
    "                pad_num = int(in_data[large_ch_id].shape[1] - in_data[small_ch_id].shape[1])\n",
    "                tmp = in_data[large_ch_id][:, :pad_num, :, :]\n",
    "                in_data[small_ch_id] = F.concat((in_data[small_ch_id], tmp * 0), axis=1)\n",
    "                # summation\n",
    "                outputs[nodeID] = in_data[0] + in_data[1]\n",
    "                nodeID += 1\n",
    "            elif 'full' in name:\n",
    "                outputs[nodeID] = getattr(self, name)(outputs[self.cgp[nodeID][1]])\n",
    "                nodeID += 1\n",
    "                param_num += f.W.data.shape[0] * f.W.data.shape[1] + f.b.data.shape[0]\n",
    "            else:\n",
    "                print('not defined function at CGP2CNN __call__')\n",
    "                exit(1)\n",
    "        self.param_num = param_num\n",
    "\n",
    "        if t is not None:\n",
    "            self.loss = None\n",
    "            self.accuracy = None\n",
    "            self.loss = self.lossfun(outputs[-1], t)\n",
    "            reporter.report({'loss': self.loss}, self)\n",
    "            self.accuracy = self.accfun(outputs[-1], t)\n",
    "            reporter.report({'accuracy': self.accuracy}, self)\n",
    "            return self.loss\n",
    "        else:\n",
    "            return outputs[-1]"
   ]
  },
  {
   "cell_type": "code",
   "execution_count": 12,
   "metadata": {},
   "outputs": [],
   "source": [
    "def __mutate(self, current, min_int, max_int):\n",
    "    mutated_gene = current\n",
    "    while current == mutated_gene:\n",
    "        mutated_gene = min_int + np.random.randint(max_int - min_int)\n",
    "    return mutated_gene\n",
    "\n",
    "def mutation(self, mutation_rate=0.01):\n",
    "    active_check = False\n",
    "\n",
    "    for n in range(self.net_info.node_num + self.net_info.out_num):\n",
    "        t = self.gene[n][0]\n",
    "        # mutation for type gene\n",
    "        type_num = self.net_info.func_type_num if n < self.net_info.node_num else self.net_info.out_type_num\n",
    "        if np.random.rand() < mutation_rate and type_num > 1:\n",
    "            self.gene[n][0] = self.__mutate(self.gene[n][0], 0, type_num)\n",
    "            if self.is_active[n]:\n",
    "                active_check = True\n",
    "        # mutation for connection gene\n",
    "        col = np.min((int(n / self.net_info.rows), self.net_info.cols))\n",
    "        max_connect_id = col * self.net_info.rows + self.net_info.input_num\n",
    "        min_connect_id = (col - self.net_info.level_back) * self.net_info.rows + self.net_info.input_num \\\n",
    "            if col - self.net_info.level_back >= 0 else 0\n",
    "        in_num = self.net_info.func_in_num[t] if n < self.net_info.node_num else self.net_info.out_in_num[t]\n",
    "        for i in range(self.net_info.max_in_num):\n",
    "            if np.random.rand() < mutation_rate and max_connect_id - min_connect_id > 1:\n",
    "                self.gene[n][i+1] = self.__mutate(self.gene[n][i+1], min_connect_id, max_connect_id)\n",
    "                if self.is_active[n] and i < in_num:\n",
    "                    active_check = True\n",
    "\n",
    "    self.check_active()\n",
    "    return active_check"
   ]
  },
  {
   "cell_type": "code",
   "execution_count": 50,
   "metadata": {
    "colab": {
     "base_uri": "https://localhost:8080/",
     "height": 857
    },
    "colab_type": "code",
    "id": "56zf2x_xDCY4",
    "outputId": "a2e8a399-2362-4c01-b395-ebb58b5ffbbe"
   },
   "outputs": [
    {
     "name": "stdout",
     "output_type": "stream",
     "text": [
      "Model: \"model_3\"\n",
      "__________________________________________________________________________________________________\n",
      "Layer (type)                    Output Shape         Param #     Connected to                     \n",
      "==================================================================================================\n",
      "input_5 (InputLayer)            (None, 100, 21)      0                                            \n",
      "__________________________________________________________________________________________________\n",
      "conv1d_6 (Conv1D)               (None, 100, 128)     2816        input_5[0][0]                    \n",
      "__________________________________________________________________________________________________\n",
      "batch_normalization_5 (BatchNor (None, 100, 128)     512         conv1d_6[0][0]                   \n",
      "__________________________________________________________________________________________________\n",
      "activation_5 (Activation)       (None, 100, 128)     0           batch_normalization_5[0][0]      \n",
      "__________________________________________________________________________________________________\n",
      "conv1d_7 (Conv1D)               (None, 100, 128)     16512       activation_5[0][0]               \n",
      "__________________________________________________________________________________________________\n",
      "batch_normalization_6 (BatchNor (None, 100, 128)     512         conv1d_7[0][0]                   \n",
      "__________________________________________________________________________________________________\n",
      "activation_6 (Activation)       (None, 100, 128)     0           batch_normalization_6[0][0]      \n",
      "__________________________________________________________________________________________________\n",
      "conv1d_8 (Conv1D)               (None, 100, 128)     49280       activation_6[0][0]               \n",
      "__________________________________________________________________________________________________\n",
      "add_3 (Add)                     (None, 100, 128)     0           conv1d_8[0][0]                   \n",
      "                                                                 conv1d_6[0][0]                   \n",
      "__________________________________________________________________________________________________\n",
      "batch_normalization_7 (BatchNor (None, 100, 128)     512         add_3[0][0]                      \n",
      "__________________________________________________________________________________________________\n",
      "activation_7 (Activation)       (None, 100, 128)     0           batch_normalization_7[0][0]      \n",
      "__________________________________________________________________________________________________\n",
      "conv1d_9 (Conv1D)               (None, 100, 128)     16512       activation_7[0][0]               \n",
      "__________________________________________________________________________________________________\n",
      "batch_normalization_8 (BatchNor (None, 100, 128)     512         conv1d_9[0][0]                   \n",
      "__________________________________________________________________________________________________\n",
      "activation_8 (Activation)       (None, 100, 128)     0           batch_normalization_8[0][0]      \n",
      "__________________________________________________________________________________________________\n",
      "conv1d_10 (Conv1D)              (None, 100, 128)     49280       activation_8[0][0]               \n",
      "__________________________________________________________________________________________________\n",
      "add_4 (Add)                     (None, 100, 128)     0           conv1d_10[0][0]                  \n",
      "                                                                 add_3[0][0]                      \n",
      "__________________________________________________________________________________________________\n",
      "max_pooling1d_1 (MaxPooling1D)  (None, 33, 128)      0           add_4[0][0]                      \n",
      "__________________________________________________________________________________________________\n",
      "dropout_3 (Dropout)             (None, 33, 128)      0           max_pooling1d_1[0][0]            \n",
      "__________________________________________________________________________________________________\n",
      "flatten_1 (Flatten)             (None, 4224)         0           dropout_3[0][0]                  \n",
      "__________________________________________________________________________________________________\n",
      "dense_3 (Dense)                 (None, 1000)         4225000     flatten_1[0][0]                  \n",
      "==================================================================================================\n",
      "Total params: 4,361,448\n",
      "Trainable params: 4,360,424\n",
      "Non-trainable params: 1,024\n",
      "__________________________________________________________________________________________________\n"
     ]
    }
   ],
   "source": [
    "# model\n",
    "\n",
    "x_input = Input(shape=(100, 21))\n",
    "\n",
    "#initial conv\n",
    "conv = Conv1D(128, 1, padding='same')(x_input) \n",
    "\n",
    "# per-residue representation\n",
    "res1 = residual_block(conv, 128, 2)\n",
    "res2 = residual_block(res1, 128, 3)\n",
    "\n",
    "x = MaxPooling1D(3)(res2)\n",
    "x = Dropout(0.5)(x)\n",
    "\n",
    "# softmax classifier\n",
    "x = Flatten()(x)\n",
    "x_output = Dense(1000, activation='softmax', kernel_regularizer=l2(0.0001))(x)\n",
    "\n",
    "model2 = Model(inputs=x_input, outputs=x_output)\n",
    "model2.compile(optimizer='adam', loss='categorical_crossentropy', metrics=['accuracy'])\n",
    "\n",
    "model2.summary()"
   ]
  },
  {
   "cell_type": "code",
   "execution_count": 0,
   "metadata": {
    "colab": {},
    "colab_type": "code",
    "id": "_gJi_tLlxvfC"
   },
   "outputs": [],
   "source": [
    "# Early Stopping\n",
    "es = EarlyStopping(monitor='val_loss', patience=3, verbose=1)"
   ]
  },
  {
   "cell_type": "code",
   "execution_count": 51,
   "metadata": {
    "colab": {
     "base_uri": "https://localhost:8080/",
     "height": 370
    },
    "colab_type": "code",
    "id": "GeRJYs0wxzBM",
    "outputId": "8dbf7565-ef7e-49bb-a063-94a92ac61917"
   },
   "outputs": [
    {
     "name": "stdout",
     "output_type": "stream",
     "text": [
      "Train on 439493 samples, validate on 54378 samples\n",
      "Epoch 1/10\n",
      "439493/439493 [==============================] - 120s 272us/step - loss: 0.9157 - acc: 0.9294 - val_loss: 0.4761 - val_acc: 0.9838\n",
      "Epoch 2/10\n",
      "439493/439493 [==============================] - 114s 260us/step - loss: 0.4438 - acc: 0.9788 - val_loss: 0.4545 - val_acc: 0.9831\n",
      "Epoch 3/10\n",
      "439493/439493 [==============================] - 114s 260us/step - loss: 0.4331 - acc: 0.9814 - val_loss: 0.4443 - val_acc: 0.9848\n",
      "Epoch 4/10\n",
      "439493/439493 [==============================] - 114s 260us/step - loss: 0.4198 - acc: 0.9825 - val_loss: 0.4279 - val_acc: 0.9863\n",
      "Epoch 5/10\n",
      "439493/439493 [==============================] - 114s 260us/step - loss: 0.4098 - acc: 0.9830 - val_loss: 0.4314 - val_acc: 0.9859\n",
      "Epoch 6/10\n",
      "439493/439493 [==============================] - 114s 260us/step - loss: 0.4033 - acc: 0.9834 - val_loss: 0.4181 - val_acc: 0.9867\n",
      "Epoch 7/10\n",
      "439493/439493 [==============================] - 114s 260us/step - loss: 0.3943 - acc: 0.9840 - val_loss: 0.4180 - val_acc: 0.9862\n",
      "Epoch 8/10\n",
      "439493/439493 [==============================] - 114s 259us/step - loss: 0.3906 - acc: 0.9842 - val_loss: 0.4086 - val_acc: 0.9858\n",
      "Epoch 9/10\n",
      "439493/439493 [==============================] - 114s 260us/step - loss: 0.3829 - acc: 0.9845 - val_loss: 0.4015 - val_acc: 0.9866\n",
      "Epoch 10/10\n",
      "439493/439493 [==============================] - 114s 260us/step - loss: 0.3841 - acc: 0.9844 - val_loss: 0.3962 - val_acc: 0.9887\n"
     ]
    }
   ],
   "source": [
    "history2 = model2.fit(\n",
    "    train_ohe, y_train,\n",
    "    epochs=10, batch_size=256,\n",
    "    validation_data=(val_ohe, y_val),\n",
    "    callbacks=[es]\n",
    "    )"
   ]
  },
  {
   "cell_type": "code",
   "execution_count": 0,
   "metadata": {
    "colab": {},
    "colab_type": "code",
    "id": "kK7sr-pBIR2w"
   },
   "outputs": [],
   "source": [
    "# saving model weights.\n",
    "model2.save_weights('drive/My Drive/Case_Study/pfam/model2.h5')"
   ]
  },
  {
   "cell_type": "code",
   "execution_count": 52,
   "metadata": {
    "colab": {
     "base_uri": "https://localhost:8080/",
     "height": 337
    },
    "colab_type": "code",
    "id": "4uXtCBnR2RGv",
    "outputId": "965f54fb-113b-4a9a-f4d6-024698f0f82d"
   },
   "outputs": [
    {
     "data": {
      "image/png": "[encoded data removed]",
      "text/plain": [
       "<Figure size 864x360 with 2 Axes>"
      ]
     },
     "metadata": {
      "tags": []
     },
     "output_type": "display_data"
    }
   ],
   "source": [
    "plot_history(history2)"
   ]
  },
  {
   "cell_type": "code",
   "execution_count": 53,
   "metadata": {
    "colab": {
     "base_uri": "https://localhost:8080/",
     "height": 202
    },
    "colab_type": "code",
    "id": "z-T9Ula42U11",
    "outputId": "1a39a91d-68a6-4245-fcd2-b5f1818324b8"
   },
   "outputs": [
    {
     "name": "stdout",
     "output_type": "stream",
     "text": [
      "439493/439493 [==============================] - 38s 85us/step\n",
      "Train loss:  0.3558084576734698\n",
      "Train accuracy:  0.9969123512774948\n",
      "----------------------------------------------------------------------\n",
      "54378/54378 [==============================] - 5s 85us/step\n",
      "Val loss:  0.39615299251274316\n",
      "Val accuracy:  0.9886718893955224\n",
      "----------------------------------------------------------------------\n",
      "54378/54378 [==============================] - 5s 85us/step\n",
      "Test loss:  0.3949931418234982\n",
      "Test accuracy:  0.9882489242257847\n"
     ]
    }
   ],
   "source": [
    "display_model_score(\n",
    "    model2,\n",
    "    [train_ohe, y_train],\n",
    "    [val_ohe, y_val],\n",
    "    [test_ohe, y_test],\n",
    "    256)"
   ]
  },
  {
   "cell_type": "markdown",
   "metadata": {
    "colab_type": "text",
    "id": "3u42Zf2bLxmM"
   },
   "source": [
    "## 5. Conclusion"
   ]
  },
  {
   "cell_type": "code",
   "execution_count": 55,
   "metadata": {
    "colab": {
     "base_uri": "https://localhost:8080/",
     "height": 118
    },
    "colab_type": "code",
    "id": "MyPhPwMnL0af",
    "outputId": "68557968-a045-4171-afd1-d5bb435d793e"
   },
   "outputs": [
    {
     "name": "stdout",
     "output_type": "stream",
     "text": [
      "+-------+--------------------+-----------+---------+----------+\n",
      "| Sr.no |       Model        | Train Acc | Val Acc | Test Acc |\n",
      "+-------+--------------------+-----------+---------+----------+\n",
      "|   1.  | Bidirectional LSTM |   0.964   |  0.957  |  0.958   |\n",
      "|   2.  |      ProtCNN       |   0.996   |  0.988  |  0.988   |\n",
      "+-------+--------------------+-----------+---------+----------+\n"
     ]
    }
   ],
   "source": [
    "x = PrettyTable()\n",
    "x.field_names = ['Sr.no', 'Model', 'Train Acc', 'Val Acc','Test Acc']\n",
    "\n",
    "x.add_row(['1.', 'Bidirectional LSTM', '0.964', '0.957', '0.958'])\n",
    "x.add_row(['2.', 'ProtCNN', '0.996', '0.988', '0.988'])\n",
    "\n",
    "print(x)"
   ]
  }
 ],
 "metadata": {
  "accelerator": "GPU",
  "colab": {
   "collapsed_sections": [
    "y_dDnHNus7SL",
    "KmJ2E-Krs_xt",
    "jtyg15A6ATsS",
    "ylHPrtMlBvyB",
    "xdkPtpHiB45Y",
    "CUfCZp0ICwaF",
    "GCPrxSoI5jQZ",
    "lqRU2FBxezKq",
    "sRXFL8RwlZGZ",
    "7XvpRxecd_B1",
    "LFxzvA1oeJGm",
    "08mVHtLVfCmp",
    "LHh3AXwNp7Yv"
   ],
   "machine_shape": "hm",
   "name": "Copy of Pfam_protein_sequence_classification.ipynb",
   "provenance": []
  },
  "kernelspec": {
   "display_name": "Python 3",
   "language": "python",
   "name": "python3"
  },
  "language_info": {
   "codemirror_mode": {
    "name": "ipython",
    "version": 3
   },
   "file_extension": ".py",
   "mimetype": "text/x-python",
   "name": "python",
   "nbconvert_exporter": "python",
   "pygments_lexer": "ipython3",
   "version": "3.6.5"
  }
 },
 "nbformat": 4,
 "nbformat_minor": 1
}
