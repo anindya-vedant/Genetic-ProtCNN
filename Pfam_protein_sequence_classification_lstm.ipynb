{
 "cells": [
  {
   "cell_type": "code",
   "execution_count": 1,
   "metadata": {
    "colab": {
     "base_uri": "https://localhost:8080/",
     "height": 34
    },
    "colab_type": "code",
    "id": "EqLtXwPchzZf",
    "outputId": "6d590203-8c02-4e96-ec23-d7d9cdb1d92f"
   },
   "outputs": [
    {
     "name": "stderr",
     "output_type": "stream",
     "text": [
      "Using TensorFlow backend.\n",
      "c:\\users\\anindya vedant\\appdata\\local\\programs\\python\\python36\\lib\\site-packages\\tensorflow\\python\\framework\\dtypes.py:516: FutureWarning: Passing (type, 1) or '1type' as a synonym of type is deprecated; in a future version of numpy, it will be understood as (type, (1,)) / '(1,)type'.\n",
      "  _np_qint8 = np.dtype([(\"qint8\", np.int8, 1)])\n",
      "c:\\users\\anindya vedant\\appdata\\local\\programs\\python\\python36\\lib\\site-packages\\tensorflow\\python\\framework\\dtypes.py:517: FutureWarning: Passing (type, 1) or '1type' as a synonym of type is deprecated; in a future version of numpy, it will be understood as (type, (1,)) / '(1,)type'.\n",
      "  _np_quint8 = np.dtype([(\"quint8\", np.uint8, 1)])\n",
      "c:\\users\\anindya vedant\\appdata\\local\\programs\\python\\python36\\lib\\site-packages\\tensorflow\\python\\framework\\dtypes.py:518: FutureWarning: Passing (type, 1) or '1type' as a synonym of type is deprecated; in a future version of numpy, it will be understood as (type, (1,)) / '(1,)type'.\n",
      "  _np_qint16 = np.dtype([(\"qint16\", np.int16, 1)])\n",
      "c:\\users\\anindya vedant\\appdata\\local\\programs\\python\\python36\\lib\\site-packages\\tensorflow\\python\\framework\\dtypes.py:519: FutureWarning: Passing (type, 1) or '1type' as a synonym of type is deprecated; in a future version of numpy, it will be understood as (type, (1,)) / '(1,)type'.\n",
      "  _np_quint16 = np.dtype([(\"quint16\", np.uint16, 1)])\n",
      "c:\\users\\anindya vedant\\appdata\\local\\programs\\python\\python36\\lib\\site-packages\\tensorflow\\python\\framework\\dtypes.py:520: FutureWarning: Passing (type, 1) or '1type' as a synonym of type is deprecated; in a future version of numpy, it will be understood as (type, (1,)) / '(1,)type'.\n",
      "  _np_qint32 = np.dtype([(\"qint32\", np.int32, 1)])\n",
      "c:\\users\\anindya vedant\\appdata\\local\\programs\\python\\python36\\lib\\site-packages\\tensorflow\\python\\framework\\dtypes.py:525: FutureWarning: Passing (type, 1) or '1type' as a synonym of type is deprecated; in a future version of numpy, it will be understood as (type, (1,)) / '(1,)type'.\n",
      "  np_resource = np.dtype([(\"resource\", np.ubyte, 1)])\n",
      "c:\\users\\anindya vedant\\appdata\\local\\programs\\python\\python36\\lib\\site-packages\\tensorboard\\compat\\tensorflow_stub\\dtypes.py:541: FutureWarning: Passing (type, 1) or '1type' as a synonym of type is deprecated; in a future version of numpy, it will be understood as (type, (1,)) / '(1,)type'.\n",
      "  _np_qint8 = np.dtype([(\"qint8\", np.int8, 1)])\n",
      "c:\\users\\anindya vedant\\appdata\\local\\programs\\python\\python36\\lib\\site-packages\\tensorboard\\compat\\tensorflow_stub\\dtypes.py:542: FutureWarning: Passing (type, 1) or '1type' as a synonym of type is deprecated; in a future version of numpy, it will be understood as (type, (1,)) / '(1,)type'.\n",
      "  _np_quint8 = np.dtype([(\"quint8\", np.uint8, 1)])\n",
      "c:\\users\\anindya vedant\\appdata\\local\\programs\\python\\python36\\lib\\site-packages\\tensorboard\\compat\\tensorflow_stub\\dtypes.py:543: FutureWarning: Passing (type, 1) or '1type' as a synonym of type is deprecated; in a future version of numpy, it will be understood as (type, (1,)) / '(1,)type'.\n",
      "  _np_qint16 = np.dtype([(\"qint16\", np.int16, 1)])\n",
      "c:\\users\\anindya vedant\\appdata\\local\\programs\\python\\python36\\lib\\site-packages\\tensorboard\\compat\\tensorflow_stub\\dtypes.py:544: FutureWarning: Passing (type, 1) or '1type' as a synonym of type is deprecated; in a future version of numpy, it will be understood as (type, (1,)) / '(1,)type'.\n",
      "  _np_quint16 = np.dtype([(\"quint16\", np.uint16, 1)])\n",
      "c:\\users\\anindya vedant\\appdata\\local\\programs\\python\\python36\\lib\\site-packages\\tensorboard\\compat\\tensorflow_stub\\dtypes.py:545: FutureWarning: Passing (type, 1) or '1type' as a synonym of type is deprecated; in a future version of numpy, it will be understood as (type, (1,)) / '(1,)type'.\n",
      "  _np_qint32 = np.dtype([(\"qint32\", np.int32, 1)])\n",
      "c:\\users\\anindya vedant\\appdata\\local\\programs\\python\\python36\\lib\\site-packages\\tensorboard\\compat\\tensorflow_stub\\dtypes.py:550: FutureWarning: Passing (type, 1) or '1type' as a synonym of type is deprecated; in a future version of numpy, it will be understood as (type, (1,)) / '(1,)type'.\n",
      "  np_resource = np.dtype([(\"resource\", np.ubyte, 1)])\n"
     ]
    }
   ],
   "source": [
    "%matplotlib inline\n",
    "\n",
    "import os\n",
    "import gc\n",
    "\n",
    "import numpy as np\n",
    "import pandas as pd\n",
    "import matplotlib.pyplot as plt\n",
    "import seaborn as sns\n",
    "\n",
    "from collections import Counter\n",
    "from prettytable import PrettyTable\n",
    "from IPython.display import Image\n",
    "\n",
    "from sklearn.preprocessing import LabelEncoder\n",
    "\n",
    "from keras.models import Model\n",
    "from keras.regularizers import l2\n",
    "from keras.constraints import max_norm\n",
    "from keras.utils import to_categorical\n",
    "from keras.preprocessing.text import Tokenizer\n",
    "from keras.preprocessing.sequence import pad_sequences\n",
    "from keras.callbacks import EarlyStopping\n",
    "from keras.layers import Input, Dense, Dropout, Flatten, Activation\n",
    "from keras.layers import Conv1D, Add, MaxPooling1D, BatchNormalization\n",
    "from keras.layers import Embedding, Bidirectional,LSTM, GlobalMaxPooling1D"
   ]
  },
  {
   "cell_type": "code",
   "execution_count": 2,
   "metadata": {
    "colab": {},
    "colab_type": "code",
    "id": "a_k-q8gv_J2_"
   },
   "outputs": [],
   "source": [
    "import tensorflow as tf\n",
    "tf.logging.set_verbosity(tf.logging.ERROR)"
   ]
  },
  {
   "cell_type": "code",
   "execution_count": 3,
   "metadata": {
    "colab": {
     "base_uri": "https://localhost:8080/",
     "height": 34
    },
    "colab_type": "code",
    "id": "Is-kuTuGzYGN",
    "outputId": "270d71b8-6772-4a6a-b7b1-0cdbdee0353e"
   },
   "outputs": [
    {
     "name": "stdout",
     "output_type": "stream",
     "text": [
      "Available data ['dev', 'random_split', 'test', 'train']\n"
     ]
    }
   ],
   "source": [
    "data_path = 'pfam-seed-random-split/random_split/'\n",
    "print('Available data', os.listdir(data_path))"
   ]
  },
  {
   "cell_type": "code",
   "execution_count": 4,
   "metadata": {
    "colab": {},
    "colab_type": "code",
    "id": "4NrlxI8tiIww"
   },
   "outputs": [],
   "source": [
    "def read_data(partition):\n",
    "  data = []\n",
    "  for fn in os.listdir(os.path.join(data_path, partition)):\n",
    "    with open(os.path.join(data_path, partition, fn)) as f:\n",
    "      data.append(pd.read_csv(f, index_col=None))\n",
    "  return pd.concat(data)"
   ]
  },
  {
   "cell_type": "code",
   "execution_count": 5,
   "metadata": {
    "colab": {},
    "colab_type": "code",
    "id": "Xy25Vu-K3MvW"
   },
   "outputs": [],
   "source": [
    "df_train = read_data('train')\n",
    "df_val = read_data('dev')\n",
    "df_test = read_data('test')"
   ]
  },
  {
   "cell_type": "code",
   "execution_count": 6,
   "metadata": {
    "colab": {
     "base_uri": "https://localhost:8080/",
     "height": 185
    },
    "colab_type": "code",
    "id": "pj2uvMN6pw7Y",
    "outputId": "e9850a9f-44da-4804-940c-0dce9d7998d0"
   },
   "outputs": [
    {
     "name": "stdout",
     "output_type": "stream",
     "text": [
      "<class 'pandas.core.frame.DataFrame'>\n",
      "Int64Index: 1086741 entries, 0 to 13514\n",
      "Data columns (total 5 columns):\n",
      "family_id           1086741 non-null object\n",
      "sequence_name       1086741 non-null object\n",
      "family_accession    1086741 non-null object\n",
      "aligned_sequence    1086741 non-null object\n",
      "sequence            1086741 non-null object\n",
      "dtypes: object(5)\n",
      "memory usage: 49.7+ MB\n"
     ]
    }
   ],
   "source": [
    "df_train.info()"
   ]
  },
  {
   "cell_type": "code",
   "execution_count": 7,
   "metadata": {
    "colab": {
     "base_uri": "https://localhost:8080/",
     "height": 195
    },
    "colab_type": "code",
    "id": "fvvyiT4PTlew",
    "outputId": "e5d8d420-9d92-43bf-99a2-6f5408e5d398"
   },
   "outputs": [
    {
     "data": {
      "text/html": [
       "<div>\n",
       "<style scoped>\n",
       "    .dataframe tbody tr th:only-of-type {\n",
       "        vertical-align: middle;\n",
       "    }\n",
       "\n",
       "    .dataframe tbody tr th {\n",
       "        vertical-align: top;\n",
       "    }\n",
       "\n",
       "    .dataframe thead th {\n",
       "        text-align: right;\n",
       "    }\n",
       "</style>\n",
       "<table border=\"1\" class=\"dataframe\">\n",
       "  <thead>\n",
       "    <tr style=\"text-align: right;\">\n",
       "      <th></th>\n",
       "      <th>family_id</th>\n",
       "      <th>sequence_name</th>\n",
       "      <th>family_accession</th>\n",
       "      <th>aligned_sequence</th>\n",
       "      <th>sequence</th>\n",
       "    </tr>\n",
       "  </thead>\n",
       "  <tbody>\n",
       "    <tr>\n",
       "      <th>0</th>\n",
       "      <td>GMC_oxred_C</td>\n",
       "      <td>A4WZS5_RHOS5/416-539</td>\n",
       "      <td>PF05199.13</td>\n",
       "      <td>PHPE.SRIRLST.RRDAHGMP.....IP.RIESRLGP............</td>\n",
       "      <td>PHPESRIRLSTRRDAHGMPIPRIESRLGPDAFARLRFMARTCRAIL...</td>\n",
       "    </tr>\n",
       "    <tr>\n",
       "      <th>1</th>\n",
       "      <td>DUF2887</td>\n",
       "      <td>K9QI92_9NOSO/3-203</td>\n",
       "      <td>PF11103.8</td>\n",
       "      <td>RDSIYYQIFKRFPALIFEL..VD.NRPPQAQNYRFESVEVKETAFR...</td>\n",
       "      <td>RDSIYYQIFKRFPALIFELVDNRPPQAQNYRFESVEVKETAFRIDG...</td>\n",
       "    </tr>\n",
       "    <tr>\n",
       "      <th>2</th>\n",
       "      <td>zf-IS66</td>\n",
       "      <td>Q92LC9_RHIME/32-75</td>\n",
       "      <td>PF13005.7</td>\n",
       "      <td>.TCCPDCGG.E..LRLVGED.AS....EILDMI.AAQMKVIEVARL...</td>\n",
       "      <td>TCCPDCGGELRLVGEDASEILDMIAAQMKVIEVARLKKSCRCCE</td>\n",
       "    </tr>\n",
       "    <tr>\n",
       "      <th>3</th>\n",
       "      <td>Asp_decarbox</td>\n",
       "      <td>X2GQZ4_9BACI/1-115</td>\n",
       "      <td>PF02261.16</td>\n",
       "      <td>MLRMMMNSKIHRATVTEADLNYVGSITIDEDILDAVGMLPNEKVHI...</td>\n",
       "      <td>MLRMMMNSKIHRATVTEADLNYVGSITIDEDILDAVGMLPNEKVHI...</td>\n",
       "    </tr>\n",
       "    <tr>\n",
       "      <th>4</th>\n",
       "      <td>Filamin</td>\n",
       "      <td>A7SQM3_NEMVE/342-439</td>\n",
       "      <td>PF00630.19</td>\n",
       "      <td>TACPKQ.CTA....RGLG.............LK.AAPVT.QPT..R...</td>\n",
       "      <td>TACPKQCTARGLGLKAAPVTQPTRFVVILNDCHGQPLGRSEGELEV...</td>\n",
       "    </tr>\n",
       "  </tbody>\n",
       "</table>\n",
       "</div>"
      ],
      "text/plain": [
       "      family_id         sequence_name family_accession  \\\n",
       "0   GMC_oxred_C  A4WZS5_RHOS5/416-539       PF05199.13   \n",
       "1       DUF2887    K9QI92_9NOSO/3-203        PF11103.8   \n",
       "2       zf-IS66    Q92LC9_RHIME/32-75        PF13005.7   \n",
       "3  Asp_decarbox    X2GQZ4_9BACI/1-115       PF02261.16   \n",
       "4       Filamin  A7SQM3_NEMVE/342-439       PF00630.19   \n",
       "\n",
       "                                    aligned_sequence  \\\n",
       "0  PHPE.SRIRLST.RRDAHGMP.....IP.RIESRLGP............   \n",
       "1  RDSIYYQIFKRFPALIFEL..VD.NRPPQAQNYRFESVEVKETAFR...   \n",
       "2  .TCCPDCGG.E..LRLVGED.AS....EILDMI.AAQMKVIEVARL...   \n",
       "3  MLRMMMNSKIHRATVTEADLNYVGSITIDEDILDAVGMLPNEKVHI...   \n",
       "4  TACPKQ.CTA....RGLG.............LK.AAPVT.QPT..R...   \n",
       "\n",
       "                                            sequence  \n",
       "0  PHPESRIRLSTRRDAHGMPIPRIESRLGPDAFARLRFMARTCRAIL...  \n",
       "1  RDSIYYQIFKRFPALIFELVDNRPPQAQNYRFESVEVKETAFRIDG...  \n",
       "2       TCCPDCGGELRLVGEDASEILDMIAAQMKVIEVARLKKSCRCCE  \n",
       "3  MLRMMMNSKIHRATVTEADLNYVGSITIDEDILDAVGMLPNEKVHI...  \n",
       "4  TACPKQCTARGLGLKAAPVTQPTRFVVILNDCHGQPLGRSEGELEV...  "
      ]
     },
     "execution_count": 7,
     "metadata": {},
     "output_type": "execute_result"
    }
   ],
   "source": [
    "df_train.head()"
   ]
  },
  {
   "cell_type": "code",
   "execution_count": 8,
   "metadata": {
    "colab": {
     "base_uri": "https://localhost:8080/",
     "height": 34
    },
    "colab_type": "code",
    "id": "FZD6gGJLd7uB",
    "outputId": "bf474ea4-43a3-4e4e-d154-350b18cef59f"
   },
   "outputs": [
    {
     "data": {
      "text/plain": [
       "'PHPESRIRLSTRRDAHGMPIPRIESRLGPDAFARLRFMARTCRAILAAAGCAAPFEEFSSADAFSSTHVFGTCRMGHDPMRNVVDGWGRSHRWPNLFVADASLFPSSGGGESPGLTIQALALRT'"
      ]
     },
     "execution_count": 8,
     "metadata": {},
     "output_type": "execute_result"
    }
   ],
   "source": [
    "df_train.head(1)['sequence'].values[0]"
   ]
  },
  {
   "cell_type": "code",
   "execution_count": 9,
   "metadata": {
    "colab": {
     "base_uri": "https://localhost:8080/",
     "height": 67
    },
    "colab_type": "code",
    "id": "lYmykaXe3aKy",
    "outputId": "6df755e5-a1ca-4c71-e3eb-bbd939264790"
   },
   "outputs": [
    {
     "name": "stdout",
     "output_type": "stream",
     "text": [
      "Train size:  1086741\n",
      "Val size:  126171\n",
      "Test size:  126171\n"
     ]
    }
   ],
   "source": [
    "print('Train size: ', len(df_train))\n",
    "print('Val size: ', len(df_val))\n",
    "print('Test size: ', len(df_test))"
   ]
  },
  {
   "cell_type": "code",
   "execution_count": 10,
   "metadata": {
    "colab": {},
    "colab_type": "code",
    "id": "hmjg-CbQyioF"
   },
   "outputs": [],
   "source": [
    "def calc_unique_cls(train, test, val):\n",
    "  \"\"\"\n",
    "  Prints # unique classes in data sets.\n",
    "  \"\"\"\n",
    "  train_unq = np.unique(train['family_accession'].values)\n",
    "  val_unq = np.unique(val['family_accession'].values)\n",
    "  test_unq = np.unique(test['family_accession'].values)\n",
    "\n",
    "  print('Number of unique classes in Train: ', len(train_unq))\n",
    "  print('Number of unique classes in Val: ', len(val_unq))\n",
    "  print('Number of unique classes in Test: ', len(test_unq))"
   ]
  },
  {
   "cell_type": "code",
   "execution_count": 11,
   "metadata": {
    "colab": {
     "base_uri": "https://localhost:8080/",
     "height": 67
    },
    "colab_type": "code",
    "id": "-2r0wIsBiy-c",
    "outputId": "a13676ba-448c-467e-a2ec-42b81b1a83d3"
   },
   "outputs": [
    {
     "name": "stdout",
     "output_type": "stream",
     "text": [
      "Number of unique classes in Train:  17929\n",
      "Number of unique classes in Val:  13071\n",
      "Number of unique classes in Test:  13071\n"
     ]
    }
   ],
   "source": [
    "calc_unique_cls(df_train, df_test, df_val)"
   ]
  },
  {
   "cell_type": "code",
   "execution_count": 12,
   "metadata": {
    "colab": {},
    "colab_type": "code",
    "id": "ViaJx_Peu5y_"
   },
   "outputs": [],
   "source": [
    "# Length of sequence in train data.\n",
    "df_train['seq_char_count']= df_train['sequence'].apply(lambda x: len(x))\n",
    "df_val['seq_char_count']= df_val['sequence'].apply(lambda x: len(x))\n",
    "df_test['seq_char_count']= df_test['sequence'].apply(lambda x: len(x))"
   ]
  },
  {
   "cell_type": "code",
   "execution_count": 13,
   "metadata": {
    "colab": {},
    "colab_type": "code",
    "id": "ATEmEmeAYoeB"
   },
   "outputs": [],
   "source": [
    "def plot_seq_count(df, data_name):\n",
    "  sns.distplot(df['seq_char_count'].values)\n",
    "  plt.title(f'Sequence char count: {data_name}')\n",
    "  plt.grid(True)"
   ]
  },
  {
   "cell_type": "code",
   "execution_count": 14,
   "metadata": {
    "colab": {
     "base_uri": "https://localhost:8080/",
     "height": 282
    },
    "colab_type": "code",
    "id": "G1Mo0m3yFAFu",
    "outputId": "43fff7b5-7292-40c1-e8a5-cec23b7065ad"
   },
   "outputs": [
    {
     "data": {
      "image/png": "[encoded data removed]",
      "text/plain": [
       "<Figure size 432x288 with 3 Axes>"
      ]
     },
     "metadata": {
      "needs_background": "light"
     },
     "output_type": "display_data"
    }
   ],
   "source": [
    "plt.subplot(1, 3, 1)\n",
    "plot_seq_count(df_train, 'Train')\n",
    "\n",
    "plt.subplot(1, 3, 2)\n",
    "plot_seq_count(df_val, 'Val')\n",
    "\n",
    "plt.subplot(1, 3, 3)\n",
    "plot_seq_count(df_test, 'Test')\n",
    "\n",
    "plt.subplots_adjust(right=3.0)\n",
    "plt.show()"
   ]
  },
  {
   "cell_type": "code",
   "execution_count": 15,
   "metadata": {
    "colab": {},
    "colab_type": "code",
    "id": "Mm54TAoH_C8t"
   },
   "outputs": [],
   "source": [
    "def get_code_freq(df, data_name):\n",
    "  \n",
    "  df = df.apply(lambda x: \" \".join(x))\n",
    "  \n",
    "  codes = []\n",
    "  for i in df: \n",
    "    codes.extend(i)\n",
    "\n",
    "  codes_dict= Counter(codes)\n",
    "  codes_dict.pop(' ')\n",
    "  \n",
    "  print(f'Codes: {data_name}')\n",
    "  print(f'Total unique codes: {len(codes_dict.keys())}')\n",
    "\n",
    "  df = pd.DataFrame({'Code': list(codes_dict.keys()), 'Freq': list(codes_dict.values())})\n",
    "  return df.sort_values('Freq', ascending=False).reset_index()[['Code', 'Freq']]"
   ]
  },
  {
   "cell_type": "code",
   "execution_count": 16,
   "metadata": {
    "colab": {
     "base_uri": "https://localhost:8080/",
     "height": 821
    },
    "colab_type": "code",
    "id": "lekmtCh9KXrY",
    "outputId": "c2bcd5c7-0cb4-448e-cb28-ec8786f81fbc"
   },
   "outputs": [
    {
     "name": "stdout",
     "output_type": "stream",
     "text": [
      "Codes: Train\n",
      "Total unique codes: 25\n"
     ]
    },
    {
     "data": {
      "text/html": [
       "<div>\n",
       "<style scoped>\n",
       "    .dataframe tbody tr th:only-of-type {\n",
       "        vertical-align: middle;\n",
       "    }\n",
       "\n",
       "    .dataframe tbody tr th {\n",
       "        vertical-align: top;\n",
       "    }\n",
       "\n",
       "    .dataframe thead th {\n",
       "        text-align: right;\n",
       "    }\n",
       "</style>\n",
       "<table border=\"1\" class=\"dataframe\">\n",
       "  <thead>\n",
       "    <tr style=\"text-align: right;\">\n",
       "      <th></th>\n",
       "      <th>Code</th>\n",
       "      <th>Freq</th>\n",
       "    </tr>\n",
       "  </thead>\n",
       "  <tbody>\n",
       "    <tr>\n",
       "      <th>0</th>\n",
       "      <td>L</td>\n",
       "      <td>17062816</td>\n",
       "    </tr>\n",
       "    <tr>\n",
       "      <th>1</th>\n",
       "      <td>A</td>\n",
       "      <td>14384873</td>\n",
       "    </tr>\n",
       "    <tr>\n",
       "      <th>2</th>\n",
       "      <td>V</td>\n",
       "      <td>11913147</td>\n",
       "    </tr>\n",
       "    <tr>\n",
       "      <th>3</th>\n",
       "      <td>G</td>\n",
       "      <td>11845579</td>\n",
       "    </tr>\n",
       "    <tr>\n",
       "      <th>4</th>\n",
       "      <td>E</td>\n",
       "      <td>10859966</td>\n",
       "    </tr>\n",
       "    <tr>\n",
       "      <th>5</th>\n",
       "      <td>S</td>\n",
       "      <td>10597822</td>\n",
       "    </tr>\n",
       "    <tr>\n",
       "      <th>6</th>\n",
       "      <td>I</td>\n",
       "      <td>10234455</td>\n",
       "    </tr>\n",
       "    <tr>\n",
       "      <th>7</th>\n",
       "      <td>R</td>\n",
       "      <td>9406165</td>\n",
       "    </tr>\n",
       "    <tr>\n",
       "      <th>8</th>\n",
       "      <td>D</td>\n",
       "      <td>9371097</td>\n",
       "    </tr>\n",
       "    <tr>\n",
       "      <th>9</th>\n",
       "      <td>K</td>\n",
       "      <td>9127832</td>\n",
       "    </tr>\n",
       "    <tr>\n",
       "      <th>10</th>\n",
       "      <td>T</td>\n",
       "      <td>9034110</td>\n",
       "    </tr>\n",
       "    <tr>\n",
       "      <th>11</th>\n",
       "      <td>P</td>\n",
       "      <td>7441084</td>\n",
       "    </tr>\n",
       "    <tr>\n",
       "      <th>12</th>\n",
       "      <td>F</td>\n",
       "      <td>7130287</td>\n",
       "    </tr>\n",
       "    <tr>\n",
       "      <th>13</th>\n",
       "      <td>N</td>\n",
       "      <td>6616976</td>\n",
       "    </tr>\n",
       "    <tr>\n",
       "      <th>14</th>\n",
       "      <td>Q</td>\n",
       "      <td>6250389</td>\n",
       "    </tr>\n",
       "    <tr>\n",
       "      <th>15</th>\n",
       "      <td>Y</td>\n",
       "      <td>5556597</td>\n",
       "    </tr>\n",
       "    <tr>\n",
       "      <th>16</th>\n",
       "      <td>M</td>\n",
       "      <td>3708948</td>\n",
       "    </tr>\n",
       "    <tr>\n",
       "      <th>17</th>\n",
       "      <td>H</td>\n",
       "      <td>3704587</td>\n",
       "    </tr>\n",
       "    <tr>\n",
       "      <th>18</th>\n",
       "      <td>C</td>\n",
       "      <td>2316115</td>\n",
       "    </tr>\n",
       "    <tr>\n",
       "      <th>19</th>\n",
       "      <td>W</td>\n",
       "      <td>2293257</td>\n",
       "    </tr>\n",
       "    <tr>\n",
       "      <th>20</th>\n",
       "      <td>X</td>\n",
       "      <td>1505</td>\n",
       "    </tr>\n",
       "    <tr>\n",
       "      <th>21</th>\n",
       "      <td>U</td>\n",
       "      <td>119</td>\n",
       "    </tr>\n",
       "    <tr>\n",
       "      <th>22</th>\n",
       "      <td>B</td>\n",
       "      <td>33</td>\n",
       "    </tr>\n",
       "    <tr>\n",
       "      <th>23</th>\n",
       "      <td>O</td>\n",
       "      <td>18</td>\n",
       "    </tr>\n",
       "    <tr>\n",
       "      <th>24</th>\n",
       "      <td>Z</td>\n",
       "      <td>8</td>\n",
       "    </tr>\n",
       "  </tbody>\n",
       "</table>\n",
       "</div>"
      ],
      "text/plain": [
       "   Code      Freq\n",
       "0     L  17062816\n",
       "1     A  14384873\n",
       "2     V  11913147\n",
       "3     G  11845579\n",
       "4     E  10859966\n",
       "5     S  10597822\n",
       "6     I  10234455\n",
       "7     R   9406165\n",
       "8     D   9371097\n",
       "9     K   9127832\n",
       "10    T   9034110\n",
       "11    P   7441084\n",
       "12    F   7130287\n",
       "13    N   6616976\n",
       "14    Q   6250389\n",
       "15    Y   5556597\n",
       "16    M   3708948\n",
       "17    H   3704587\n",
       "18    C   2316115\n",
       "19    W   2293257\n",
       "20    X      1505\n",
       "21    U       119\n",
       "22    B        33\n",
       "23    O        18\n",
       "24    Z         8"
      ]
     },
     "execution_count": 16,
     "metadata": {},
     "output_type": "execute_result"
    }
   ],
   "source": [
    "train_code_freq = get_code_freq(df_train['sequence'], 'Train')\n",
    "train_code_freq"
   ]
  },
  {
   "cell_type": "code",
   "execution_count": 17,
   "metadata": {
    "colab": {
     "base_uri": "https://localhost:8080/",
     "height": 732
    },
    "colab_type": "code",
    "id": "26OQZxJbDABI",
    "outputId": "cf8fbd67-a4c1-44f4-ada0-12b5529c9f20"
   },
   "outputs": [
    {
     "name": "stdout",
     "output_type": "stream",
     "text": [
      "Codes: Val\n",
      "Total unique codes: 22\n"
     ]
    },
    {
     "data": {
      "text/html": [
       "<div>\n",
       "<style scoped>\n",
       "    .dataframe tbody tr th:only-of-type {\n",
       "        vertical-align: middle;\n",
       "    }\n",
       "\n",
       "    .dataframe tbody tr th {\n",
       "        vertical-align: top;\n",
       "    }\n",
       "\n",
       "    .dataframe thead th {\n",
       "        text-align: right;\n",
       "    }\n",
       "</style>\n",
       "<table border=\"1\" class=\"dataframe\">\n",
       "  <thead>\n",
       "    <tr style=\"text-align: right;\">\n",
       "      <th></th>\n",
       "      <th>Code</th>\n",
       "      <th>Freq</th>\n",
       "    </tr>\n",
       "  </thead>\n",
       "  <tbody>\n",
       "    <tr>\n",
       "      <th>0</th>\n",
       "      <td>L</td>\n",
       "      <td>1967025</td>\n",
       "    </tr>\n",
       "    <tr>\n",
       "      <th>1</th>\n",
       "      <td>A</td>\n",
       "      <td>1667703</td>\n",
       "    </tr>\n",
       "    <tr>\n",
       "      <th>2</th>\n",
       "      <td>V</td>\n",
       "      <td>1382128</td>\n",
       "    </tr>\n",
       "    <tr>\n",
       "      <th>3</th>\n",
       "      <td>G</td>\n",
       "      <td>1376124</td>\n",
       "    </tr>\n",
       "    <tr>\n",
       "      <th>4</th>\n",
       "      <td>E</td>\n",
       "      <td>1249356</td>\n",
       "    </tr>\n",
       "    <tr>\n",
       "      <th>5</th>\n",
       "      <td>S</td>\n",
       "      <td>1210750</td>\n",
       "    </tr>\n",
       "    <tr>\n",
       "      <th>6</th>\n",
       "      <td>I</td>\n",
       "      <td>1185722</td>\n",
       "    </tr>\n",
       "    <tr>\n",
       "      <th>7</th>\n",
       "      <td>R</td>\n",
       "      <td>1085950</td>\n",
       "    </tr>\n",
       "    <tr>\n",
       "      <th>8</th>\n",
       "      <td>D</td>\n",
       "      <td>1080572</td>\n",
       "    </tr>\n",
       "    <tr>\n",
       "      <th>9</th>\n",
       "      <td>K</td>\n",
       "      <td>1047638</td>\n",
       "    </tr>\n",
       "    <tr>\n",
       "      <th>10</th>\n",
       "      <td>T</td>\n",
       "      <td>1039590</td>\n",
       "    </tr>\n",
       "    <tr>\n",
       "      <th>11</th>\n",
       "      <td>P</td>\n",
       "      <td>850937</td>\n",
       "    </tr>\n",
       "    <tr>\n",
       "      <th>12</th>\n",
       "      <td>F</td>\n",
       "      <td>820778</td>\n",
       "    </tr>\n",
       "    <tr>\n",
       "      <th>13</th>\n",
       "      <td>N</td>\n",
       "      <td>757315</td>\n",
       "    </tr>\n",
       "    <tr>\n",
       "      <th>14</th>\n",
       "      <td>Q</td>\n",
       "      <td>714424</td>\n",
       "    </tr>\n",
       "    <tr>\n",
       "      <th>15</th>\n",
       "      <td>Y</td>\n",
       "      <td>639252</td>\n",
       "    </tr>\n",
       "    <tr>\n",
       "      <th>16</th>\n",
       "      <td>M</td>\n",
       "      <td>428275</td>\n",
       "    </tr>\n",
       "    <tr>\n",
       "      <th>17</th>\n",
       "      <td>H</td>\n",
       "      <td>426922</td>\n",
       "    </tr>\n",
       "    <tr>\n",
       "      <th>18</th>\n",
       "      <td>C</td>\n",
       "      <td>264434</td>\n",
       "    </tr>\n",
       "    <tr>\n",
       "      <th>19</th>\n",
       "      <td>W</td>\n",
       "      <td>263317</td>\n",
       "    </tr>\n",
       "    <tr>\n",
       "      <th>20</th>\n",
       "      <td>X</td>\n",
       "      <td>146</td>\n",
       "    </tr>\n",
       "    <tr>\n",
       "      <th>21</th>\n",
       "      <td>U</td>\n",
       "      <td>12</td>\n",
       "    </tr>\n",
       "  </tbody>\n",
       "</table>\n",
       "</div>"
      ],
      "text/plain": [
       "   Code     Freq\n",
       "0     L  1967025\n",
       "1     A  1667703\n",
       "2     V  1382128\n",
       "3     G  1376124\n",
       "4     E  1249356\n",
       "5     S  1210750\n",
       "6     I  1185722\n",
       "7     R  1085950\n",
       "8     D  1080572\n",
       "9     K  1047638\n",
       "10    T  1039590\n",
       "11    P   850937\n",
       "12    F   820778\n",
       "13    N   757315\n",
       "14    Q   714424\n",
       "15    Y   639252\n",
       "16    M   428275\n",
       "17    H   426922\n",
       "18    C   264434\n",
       "19    W   263317\n",
       "20    X      146\n",
       "21    U       12"
      ]
     },
     "execution_count": 17,
     "metadata": {},
     "output_type": "execute_result"
    }
   ],
   "source": [
    "val_code_freq = get_code_freq(df_val['sequence'], 'Val')\n",
    "val_code_freq"
   ]
  },
  {
   "cell_type": "code",
   "execution_count": 18,
   "metadata": {
    "colab": {
     "base_uri": "https://localhost:8080/",
     "height": 791
    },
    "colab_type": "code",
    "id": "CEcQG5Y2CVvA",
    "outputId": "8e7f8cd4-adc1-415c-9ed4-e0a0dfd50cd0"
   },
   "outputs": [
    {
     "name": "stdout",
     "output_type": "stream",
     "text": [
      "Codes: Test\n",
      "Total unique codes: 24\n"
     ]
    },
    {
     "data": {
      "text/html": [
       "<div>\n",
       "<style scoped>\n",
       "    .dataframe tbody tr th:only-of-type {\n",
       "        vertical-align: middle;\n",
       "    }\n",
       "\n",
       "    .dataframe tbody tr th {\n",
       "        vertical-align: top;\n",
       "    }\n",
       "\n",
       "    .dataframe thead th {\n",
       "        text-align: right;\n",
       "    }\n",
       "</style>\n",
       "<table border=\"1\" class=\"dataframe\">\n",
       "  <thead>\n",
       "    <tr style=\"text-align: right;\">\n",
       "      <th></th>\n",
       "      <th>Code</th>\n",
       "      <th>Freq</th>\n",
       "    </tr>\n",
       "  </thead>\n",
       "  <tbody>\n",
       "    <tr>\n",
       "      <th>0</th>\n",
       "      <td>L</td>\n",
       "      <td>1967046</td>\n",
       "    </tr>\n",
       "    <tr>\n",
       "      <th>1</th>\n",
       "      <td>A</td>\n",
       "      <td>1668137</td>\n",
       "    </tr>\n",
       "    <tr>\n",
       "      <th>2</th>\n",
       "      <td>V</td>\n",
       "      <td>1380962</td>\n",
       "    </tr>\n",
       "    <tr>\n",
       "      <th>3</th>\n",
       "      <td>G</td>\n",
       "      <td>1375349</td>\n",
       "    </tr>\n",
       "    <tr>\n",
       "      <th>4</th>\n",
       "      <td>E</td>\n",
       "      <td>1251000</td>\n",
       "    </tr>\n",
       "    <tr>\n",
       "      <th>5</th>\n",
       "      <td>S</td>\n",
       "      <td>1210559</td>\n",
       "    </tr>\n",
       "    <tr>\n",
       "      <th>6</th>\n",
       "      <td>I</td>\n",
       "      <td>1184239</td>\n",
       "    </tr>\n",
       "    <tr>\n",
       "      <th>7</th>\n",
       "      <td>R</td>\n",
       "      <td>1085786</td>\n",
       "    </tr>\n",
       "    <tr>\n",
       "      <th>8</th>\n",
       "      <td>D</td>\n",
       "      <td>1078379</td>\n",
       "    </tr>\n",
       "    <tr>\n",
       "      <th>9</th>\n",
       "      <td>K</td>\n",
       "      <td>1045957</td>\n",
       "    </tr>\n",
       "    <tr>\n",
       "      <th>10</th>\n",
       "      <td>T</td>\n",
       "      <td>1038682</td>\n",
       "    </tr>\n",
       "    <tr>\n",
       "      <th>11</th>\n",
       "      <td>P</td>\n",
       "      <td>851574</td>\n",
       "    </tr>\n",
       "    <tr>\n",
       "      <th>12</th>\n",
       "      <td>F</td>\n",
       "      <td>822738</td>\n",
       "    </tr>\n",
       "    <tr>\n",
       "      <th>13</th>\n",
       "      <td>N</td>\n",
       "      <td>756549</td>\n",
       "    </tr>\n",
       "    <tr>\n",
       "      <th>14</th>\n",
       "      <td>Q</td>\n",
       "      <td>712317</td>\n",
       "    </tr>\n",
       "    <tr>\n",
       "      <th>15</th>\n",
       "      <td>Y</td>\n",
       "      <td>639218</td>\n",
       "    </tr>\n",
       "    <tr>\n",
       "      <th>16</th>\n",
       "      <td>M</td>\n",
       "      <td>428892</td>\n",
       "    </tr>\n",
       "    <tr>\n",
       "      <th>17</th>\n",
       "      <td>H</td>\n",
       "      <td>425862</td>\n",
       "    </tr>\n",
       "    <tr>\n",
       "      <th>18</th>\n",
       "      <td>C</td>\n",
       "      <td>264168</td>\n",
       "    </tr>\n",
       "    <tr>\n",
       "      <th>19</th>\n",
       "      <td>W</td>\n",
       "      <td>263755</td>\n",
       "    </tr>\n",
       "    <tr>\n",
       "      <th>20</th>\n",
       "      <td>X</td>\n",
       "      <td>198</td>\n",
       "    </tr>\n",
       "    <tr>\n",
       "      <th>21</th>\n",
       "      <td>U</td>\n",
       "      <td>12</td>\n",
       "    </tr>\n",
       "    <tr>\n",
       "      <th>22</th>\n",
       "      <td>Z</td>\n",
       "      <td>4</td>\n",
       "    </tr>\n",
       "    <tr>\n",
       "      <th>23</th>\n",
       "      <td>B</td>\n",
       "      <td>2</td>\n",
       "    </tr>\n",
       "  </tbody>\n",
       "</table>\n",
       "</div>"
      ],
      "text/plain": [
       "   Code     Freq\n",
       "0     L  1967046\n",
       "1     A  1668137\n",
       "2     V  1380962\n",
       "3     G  1375349\n",
       "4     E  1251000\n",
       "5     S  1210559\n",
       "6     I  1184239\n",
       "7     R  1085786\n",
       "8     D  1078379\n",
       "9     K  1045957\n",
       "10    T  1038682\n",
       "11    P   851574\n",
       "12    F   822738\n",
       "13    N   756549\n",
       "14    Q   712317\n",
       "15    Y   639218\n",
       "16    M   428892\n",
       "17    H   425862\n",
       "18    C   264168\n",
       "19    W   263755\n",
       "20    X      198\n",
       "21    U       12\n",
       "22    Z        4\n",
       "23    B        2"
      ]
     },
     "execution_count": 18,
     "metadata": {},
     "output_type": "execute_result"
    }
   ],
   "source": [
    "test_code_freq = get_code_freq(df_test['sequence'], 'Test')\n",
    "test_code_freq"
   ]
  },
  {
   "cell_type": "code",
   "execution_count": 19,
   "metadata": {
    "colab": {},
    "colab_type": "code",
    "id": "Vsp8Bd37DQi4"
   },
   "outputs": [],
   "source": [
    "def plot_code_freq(df, data_name):\n",
    "  \n",
    "  plt.title(f'Code frequency: {data_name}')\n",
    "  sns.barplot(x='Code', y='Freq', data=df)"
   ]
  },
  {
   "cell_type": "code",
   "execution_count": 20,
   "metadata": {
    "colab": {
     "base_uri": "https://localhost:8080/",
     "height": 299
    },
    "colab_type": "code",
    "id": "hqpczOVOF8sA",
    "outputId": "f1917b77-bdc4-405f-bd62-4d1ffebc1069"
   },
   "outputs": [
    {
     "data": {
      "image/png": "[encoded data removed]",
      "text/plain": [
       "<Figure size 432x288 with 3 Axes>"
      ]
     },
     "metadata": {
      "needs_background": "light"
     },
     "output_type": "display_data"
    }
   ],
   "source": [
    "plt.subplot(1, 3, 1)\n",
    "plot_code_freq(train_code_freq, 'Train')\n",
    "\n",
    "plt.subplot(1, 3, 2)\n",
    "plot_code_freq(val_code_freq, 'Val')\n",
    "\n",
    "plt.subplot(1, 3, 3)\n",
    "plot_code_freq(test_code_freq, 'Test')\n",
    "\n",
    "plt.subplots_adjust(right=3.0)\n",
    "plt.show()"
   ]
  },
  {
   "cell_type": "code",
   "execution_count": 21,
   "metadata": {
    "colab": {
     "base_uri": "https://localhost:8080/",
     "height": 386
    },
    "colab_type": "code",
    "id": "VOx7dLl4uVwd",
    "outputId": "f81e1563-a81e-4899-8256-074d6d8d5ffc"
   },
   "outputs": [
    {
     "data": {
      "text/plain": [
       "family_id\n",
       "Methyltransf_25    3637\n",
       "LRR_1              1927\n",
       "Acetyltransf_7     1761\n",
       "His_kinase         1537\n",
       "Bac_transf         1528\n",
       "Lum_binding        1504\n",
       "DNA_binding_1      1345\n",
       "Chromate_transp    1265\n",
       "Lipase_GDSL_2      1252\n",
       "DnaJ_CXXCXGXG      1210\n",
       "SRP54_N            1185\n",
       "WD40               1173\n",
       "OTCace_N           1171\n",
       "PEP-utilizers      1147\n",
       "Glycos_trans_3N    1138\n",
       "THF_DHG_CYH        1113\n",
       "Prenyltransf       1104\n",
       "HTH_1              1064\n",
       "Maf                1061\n",
       "DHH                1057\n",
       "dtype: int64"
      ]
     },
     "execution_count": 21,
     "metadata": {},
     "output_type": "execute_result"
    }
   ],
   "source": [
    "df_train.groupby('family_id').size().sort_values(ascending=False).head(20)"
   ]
  },
  {
   "cell_type": "code",
   "execution_count": 22,
   "metadata": {
    "colab": {
     "base_uri": "https://localhost:8080/",
     "height": 386
    },
    "colab_type": "code",
    "id": "PFc1swdQ7fA3",
    "outputId": "5a2628fd-adff-4951-a8e2-2aa1d1317dfc"
   },
   "outputs": [
    {
     "data": {
      "text/plain": [
       "family_id\n",
       "Methyltransf_25    454\n",
       "LRR_1              240\n",
       "Acetyltransf_7     219\n",
       "His_kinase         192\n",
       "Bac_transf         190\n",
       "Lum_binding        187\n",
       "DNA_binding_1      168\n",
       "Chromate_transp    157\n",
       "Lipase_GDSL_2      156\n",
       "DnaJ_CXXCXGXG      151\n",
       "SRP54_N            148\n",
       "OTCace_N           146\n",
       "WD40               146\n",
       "PEP-utilizers      143\n",
       "Glycos_trans_3N    142\n",
       "Prenyltransf       138\n",
       "THF_DHG_CYH        138\n",
       "HTH_1              133\n",
       "Maf                132\n",
       "DHH                131\n",
       "dtype: int64"
      ]
     },
     "execution_count": 22,
     "metadata": {},
     "output_type": "execute_result"
    }
   ],
   "source": [
    "df_val.groupby('family_id').size().sort_values(ascending=False).head(20)"
   ]
  },
  {
   "cell_type": "code",
   "execution_count": 23,
   "metadata": {
    "colab": {
     "base_uri": "https://localhost:8080/",
     "height": 386
    },
    "colab_type": "code",
    "id": "XYKZ-oedp5JQ",
    "outputId": "8948b589-b5f0-4cb4-ab1e-320cfd73591b"
   },
   "outputs": [
    {
     "data": {
      "text/plain": [
       "family_id\n",
       "Methyltransf_25    454\n",
       "LRR_1              240\n",
       "Acetyltransf_7     219\n",
       "His_kinase         192\n",
       "Bac_transf         190\n",
       "Lum_binding        187\n",
       "DNA_binding_1      168\n",
       "Chromate_transp    157\n",
       "Lipase_GDSL_2      156\n",
       "DnaJ_CXXCXGXG      151\n",
       "SRP54_N            148\n",
       "OTCace_N           146\n",
       "WD40               146\n",
       "PEP-utilizers      143\n",
       "Glycos_trans_3N    142\n",
       "Prenyltransf       138\n",
       "THF_DHG_CYH        138\n",
       "HTH_1              133\n",
       "Maf                132\n",
       "DHH                131\n",
       "dtype: int64"
      ]
     },
     "execution_count": 23,
     "metadata": {},
     "output_type": "execute_result"
    }
   ],
   "source": [
    "df_test.groupby('family_id').size().sort_values(ascending=False).head(20)"
   ]
  },
  {
   "cell_type": "code",
   "execution_count": 24,
   "metadata": {
    "colab": {
     "base_uri": "https://localhost:8080/",
     "height": 34
    },
    "colab_type": "code",
    "id": "bOGBUMFw-CdY",
    "outputId": "07b4ac68-da22-447c-f504-ec3d28c79552"
   },
   "outputs": [
    {
     "data": {
      "text/plain": [
       "1000"
      ]
     },
     "execution_count": 24,
     "metadata": {},
     "output_type": "execute_result"
    }
   ],
   "source": [
    "classes = df_train['family_accession'].value_counts()[:1000].index.tolist()\n",
    "len(classes)"
   ]
  },
  {
   "cell_type": "code",
   "execution_count": 25,
   "metadata": {
    "colab": {
     "base_uri": "https://localhost:8080/",
     "height": 84
    },
    "colab_type": "code",
    "id": "Ctv5whnYk8FL",
    "outputId": "fc992b26-c07c-453c-cb1a-d1da2f9e54c8"
   },
   "outputs": [
    {
     "name": "stdout",
     "output_type": "stream",
     "text": [
      "Data size after considering 1000 classes for each data split:\n",
      "Train size : 439493\n",
      "Val size : 54378\n",
      "Test size : 54378\n"
     ]
    }
   ],
   "source": [
    "train_sm = df_train.loc[df_train['family_accession'].isin(classes)].reset_index()\n",
    "val_sm = df_val.loc[df_val['family_accession'].isin(classes)].reset_index()\n",
    "test_sm = df_test.loc[df_test['family_accession'].isin(classes)].reset_index()\n",
    "\n",
    "print('Data size after considering 1000 classes for each data split:')\n",
    "print('Train size :', len(train_sm))\n",
    "print('Val size :', len(val_sm))\n",
    "print('Test size :', len(test_sm))"
   ]
  },
  {
   "cell_type": "code",
   "execution_count": 26,
   "metadata": {
    "colab": {
     "base_uri": "https://localhost:8080/",
     "height": 67
    },
    "colab_type": "code",
    "id": "0sRhsRRqUGGV",
    "outputId": "bee31926-b35b-4d12-eb75-e35109705744"
   },
   "outputs": [
    {
     "name": "stdout",
     "output_type": "stream",
     "text": [
      "Number of unique classes in Train:  1000\n",
      "Number of unique classes in Val:  1000\n",
      "Number of unique classes in Test:  1000\n"
     ]
    }
   ],
   "source": [
    "calc_unique_cls(train_sm, test_sm, val_sm)"
   ]
  },
  {
   "cell_type": "code",
   "execution_count": 27,
   "metadata": {
    "colab": {
     "base_uri": "https://localhost:8080/",
     "height": 50
    },
    "colab_type": "code",
    "id": "D16pJrHvqDdU",
    "outputId": "0ff0f88d-18b2-4fff-c65f-1108c58707aa"
   },
   "outputs": [
    {
     "name": "stdout",
     "output_type": "stream",
     "text": [
      "{'A': 1, 'C': 2, 'D': 3, 'E': 4, 'F': 5, 'G': 6, 'H': 7, 'I': 8, 'K': 9, 'L': 10, 'M': 11, 'N': 12, 'P': 13, 'Q': 14, 'R': 15, 'S': 16, 'T': 17, 'V': 18, 'W': 19, 'Y': 20}\n",
      "Dict Length: 20\n"
     ]
    }
   ],
   "source": [
    "codes = ['A', 'C', 'D', 'E', 'F', 'G', 'H', 'I', 'K', 'L',\n",
    "         'M', 'N', 'P', 'Q', 'R', 'S', 'T', 'V', 'W', 'Y']\n",
    "\n",
    "def create_dict(codes):\n",
    "  char_dict = {}\n",
    "  for index, val in enumerate(codes):\n",
    "    char_dict[val] = index+1\n",
    "\n",
    "  return char_dict\n",
    "\n",
    "char_dict = create_dict(codes)\n",
    "\n",
    "print(char_dict)\n",
    "print(\"Dict Length:\", len(char_dict))"
   ]
  },
  {
   "cell_type": "code",
   "execution_count": 28,
   "metadata": {
    "colab": {},
    "colab_type": "code",
    "id": "dN92LSEG62zX"
   },
   "outputs": [],
   "source": [
    "def integer_encoding(data):\n",
    "  \"\"\"\n",
    "  - Encodes code sequence to integer values.\n",
    "  - 20 common amino acids are taken into consideration\n",
    "    and rest 4 are categorized as 0.\n",
    "  \"\"\"\n",
    "  \n",
    "  encode_list = []\n",
    "  for row in data['sequence'].values:\n",
    "    row_encode = []\n",
    "    for code in row:\n",
    "      row_encode.append(char_dict.get(code, 0))\n",
    "    encode_list.append(np.array(row_encode))\n",
    "  \n",
    "  return encode_list"
   ]
  },
  {
   "cell_type": "code",
   "execution_count": 29,
   "metadata": {
    "colab": {},
    "colab_type": "code",
    "id": "2SW62zkr7Xzf"
   },
   "outputs": [],
   "source": [
    "train_encode = integer_encoding(train_sm) \n",
    "val_encode = integer_encoding(val_sm) \n",
    "test_encode = integer_encoding(test_sm) "
   ]
  },
  {
   "cell_type": "code",
   "execution_count": 30,
   "metadata": {
    "colab": {
     "base_uri": "https://localhost:8080/",
     "height": 34
    },
    "colab_type": "code",
    "id": "0_vX2hJJ7noX",
    "outputId": "6175a913-7b43-4283-9353-477f809f23d7"
   },
   "outputs": [
    {
     "data": {
      "text/plain": [
       "((439493, 100), (54378, 100), (54378, 100))"
      ]
     },
     "execution_count": 30,
     "metadata": {},
     "output_type": "execute_result"
    }
   ],
   "source": [
    "max_length = 100\n",
    "train_pad = pad_sequences(train_encode, maxlen=max_length, padding='post', truncating='post')\n",
    "val_pad = pad_sequences(val_encode, maxlen=max_length, padding='post', truncating='post')\n",
    "test_pad = pad_sequences(test_encode, maxlen=max_length, padding='post', truncating='post')\n",
    "\n",
    "train_pad.shape, val_pad.shape, test_pad.shape"
   ]
  },
  {
   "cell_type": "code",
   "execution_count": 31,
   "metadata": {
    "colab": {
     "base_uri": "https://localhost:8080/",
     "height": 34
    },
    "colab_type": "code",
    "id": "3MNzmuhn9zTJ",
    "outputId": "55c143ec-aed3-4bb4-d88b-7720a7651ae5"
   },
   "outputs": [
    {
     "data": {
      "text/plain": [
       "((439493, 100, 21), (54378, 100, 21), (54378, 100, 21))"
      ]
     },
     "execution_count": 31,
     "metadata": {},
     "output_type": "execute_result"
    }
   ],
   "source": [
    "train_ohe = to_categorical(train_pad)\n",
    "val_ohe = to_categorical(val_pad)\n",
    "test_ohe = to_categorical(test_pad)\n",
    "\n",
    "train_ohe.shape, test_ohe.shape, test_ohe.shape "
   ]
  },
  {
   "cell_type": "code",
   "execution_count": 32,
   "metadata": {
    "colab": {
     "base_uri": "https://localhost:8080/",
     "height": 34
    },
    "colab_type": "code",
    "id": "cOdjjL1mLMko",
    "outputId": "207f7985-fe44-49b4-d9a6-161d4eaf582b"
   },
   "outputs": [
    {
     "data": {
      "text/plain": [
       "((439493,), (54378,), (54378,))"
      ]
     },
     "execution_count": 32,
     "metadata": {},
     "output_type": "execute_result"
    }
   ],
   "source": [
    "le = LabelEncoder()\n",
    "\n",
    "y_train_le = le.fit_transform(train_sm['family_accession'])\n",
    "y_val_le = le.transform(val_sm['family_accession'])\n",
    "y_test_le = le.transform(test_sm['family_accession'])\n",
    "\n",
    "y_train_le.shape, y_val_le.shape, y_test_le.shape"
   ]
  },
  {
   "cell_type": "code",
   "execution_count": 33,
   "metadata": {
    "colab": {
     "base_uri": "https://localhost:8080/",
     "height": 34
    },
    "colab_type": "code",
    "id": "1r-g3zHcNe5o",
    "outputId": "03227960-c615-4a41-d315-c522151c350a"
   },
   "outputs": [
    {
     "name": "stdout",
     "output_type": "stream",
     "text": [
      "Total classes:  1000\n"
     ]
    }
   ],
   "source": [
    "print('Total classes: ', len(le.classes_))"
   ]
  },
  {
   "cell_type": "code",
   "execution_count": 34,
   "metadata": {
    "colab": {
     "base_uri": "https://localhost:8080/",
     "height": 34
    },
    "colab_type": "code",
    "id": "er4ArjShGnV3",
    "outputId": "79a9fc8c-b430-4971-e338-b8cef5868d42"
   },
   "outputs": [
    {
     "data": {
      "text/plain": [
       "((439493, 1000), (54378, 1000), (54378, 1000))"
      ]
     },
     "execution_count": 34,
     "metadata": {},
     "output_type": "execute_result"
    }
   ],
   "source": [
    "y_train = to_categorical(y_train_le)\n",
    "y_val = to_categorical(y_val_le)\n",
    "y_test = to_categorical(y_test_le)\n",
    "\n",
    "y_train.shape, y_val.shape, y_test.shape"
   ]
  },
  {
   "cell_type": "code",
   "execution_count": 35,
   "metadata": {
    "colab": {},
    "colab_type": "code",
    "id": "ADeDl5u7whSp"
   },
   "outputs": [],
   "source": [
    "plt.style.use('ggplot')\n",
    "\n",
    "def plot_history(history):\n",
    "  acc = history.history['acc']\n",
    "  val_acc = history.history['val_acc']\n",
    "  loss = history.history['loss']\n",
    "  val_loss = history.history['val_loss']\n",
    "  x = range(1, len(acc) + 1)\n",
    "\n",
    "  plt.figure(figsize=(12, 5))\n",
    "  plt.subplot(1, 2, 1)\n",
    "  plt.plot(x, acc, 'b', label='Training acc')\n",
    "  plt.plot(x, val_acc, 'r', label='Validation acc')\n",
    "  plt.title('Training and validation accuracy')\n",
    "  plt.legend()\n",
    "\n",
    "  plt.subplot(1, 2, 2)\n",
    "  plt.plot(x, loss, 'b', label='Training loss')\n",
    "  plt.plot(x, val_loss, 'r', label='Validation loss')\n",
    "  plt.title('Training and validation loss')\n",
    "  plt.legend()"
   ]
  },
  {
   "cell_type": "code",
   "execution_count": 36,
   "metadata": {
    "colab": {},
    "colab_type": "code",
    "id": "GG5UJlgsK0z6"
   },
   "outputs": [],
   "source": [
    "def display_model_score(model, train, val, test, batch_size):\n",
    "\n",
    "  train_score = model.evaluate(train[0], train[1], batch_size=batch_size, verbose=1)\n",
    "  print('Train loss: ', train_score[0])\n",
    "  print('Train accuracy: ', train_score[1])\n",
    "  print('-'*70)\n",
    "\n",
    "  val_score = model.evaluate(val[0], val[1], batch_size=batch_size, verbose=1)\n",
    "  print('Val loss: ', val_score[0])\n",
    "  print('Val accuracy: ', val_score[1])\n",
    "  print('-'*70)\n",
    "  \n",
    "  test_score = model.evaluate(test[0], test[1], batch_size=batch_size, verbose=1)\n",
    "  print('Test loss: ', test_score[0])\n",
    "  print('Test accuracy: ', test_score[1])"
   ]
  },
  {
   "cell_type": "code",
   "execution_count": 37,
   "metadata": {
    "colab": {
     "base_uri": "https://localhost:8080/",
     "height": 319
    },
    "colab_type": "code",
    "id": "ERfM44Zk0dcz",
    "outputId": "e8fa2245-e20d-422f-ec08-9b5e7c54f558"
   },
   "outputs": [
    {
     "name": "stdout",
     "output_type": "stream",
     "text": [
      "Model: \"model_1\"\n",
      "_________________________________________________________________\n",
      "Layer (type)                 Output Shape              Param #   \n",
      "=================================================================\n",
      "input_1 (InputLayer)         (None, 100)               0         \n",
      "_________________________________________________________________\n",
      "embedding_1 (Embedding)      (None, 100, 128)          2688      \n",
      "_________________________________________________________________\n",
      "bidirectional_1 (Bidirection (None, 128)               98816     \n",
      "_________________________________________________________________\n",
      "dropout_1 (Dropout)          (None, 128)               0         \n",
      "_________________________________________________________________\n",
      "dense_1 (Dense)              (None, 1000)              129000    \n",
      "=================================================================\n",
      "Total params: 230,504\n",
      "Trainable params: 230,504\n",
      "Non-trainable params: 0\n",
      "_________________________________________________________________\n"
     ]
    }
   ],
   "source": [
    "x_input = Input(shape=(100,))\n",
    "emb = Embedding(21, 128, input_length=max_length)(x_input)\n",
    "bi_rnn = Bidirectional(LSTM(64, kernel_regularizer=l2(0.01), recurrent_regularizer=l2(0.01), bias_regularizer=l2(0.01)))(emb)\n",
    "x = Dropout(0.3)(bi_rnn)\n",
    "\n",
    "x_output = Dense(1000, activation='softmax')(x)\n",
    "\n",
    "model1 = Model(inputs=x_input, outputs=x_output)\n",
    "model1.compile(optimizer='adam', loss='categorical_crossentropy', metrics=['acc'])\n",
    "\n",
    "model1.summary()"
   ]
  },
  {
   "cell_type": "code",
   "execution_count": 38,
   "metadata": {
    "colab": {},
    "colab_type": "code",
    "id": "DbpNEd2nmySw"
   },
   "outputs": [],
   "source": [
    "es = EarlyStopping(monitor='val_loss', patience=3, verbose=1)"
   ]
  },
  {
   "cell_type": "code",
   "execution_count": 39,
   "metadata": {
    "colab": {
     "base_uri": "https://localhost:8080/",
     "height": 1000
    },
    "colab_type": "code",
    "id": "rojzazHe0hlN",
    "outputId": "17222b58-54be-47ac-90eb-a9cdd75bffe5",
    "scrolled": true
   },
   "outputs": [
    {
     "name": "stdout",
     "output_type": "stream",
     "text": [
      "Train on 439493 samples, validate on 54378 samples\n",
      "Epoch 1/50\n",
      "439493/439493 [==============================] - 531s 1ms/step - loss: 5.5357 - acc: 0.1088 - val_loss: 3.6296 - val_acc: 0.3310\n",
      "Epoch 2/50\n",
      "439493/439493 [==============================] - 540s 1ms/step - loss: 2.8647 - acc: 0.4738 - val_loss: 2.0723 - val_acc: 0.6547\n",
      "Epoch 3/50\n",
      "439493/439493 [==============================] - 541s 1ms/step - loss: 1.8791 - acc: 0.6700 - val_loss: 1.3717 - val_acc: 0.7920\n",
      "Epoch 4/50\n",
      "439493/439493 [==============================] - 539s 1ms/step - loss: 1.4300 - acc: 0.7565 - val_loss: 1.0372 - val_acc: 0.8531\n",
      "Epoch 5/50\n",
      "439493/439493 [==============================] - 532s 1ms/step - loss: 1.1806 - acc: 0.8030 - val_loss: 0.8867 - val_acc: 0.8802\n",
      "Epoch 6/50\n",
      "439493/439493 [==============================] - 530s 1ms/step - loss: 1.0259 - acc: 0.8310 - val_loss: 0.7446 - val_acc: 0.9028\n",
      "Epoch 7/50\n",
      "439493/439493 [==============================] - 538s 1ms/step - loss: 0.9303 - acc: 0.8476 - val_loss: 0.6578 - val_acc: 0.9189\n",
      "Epoch 8/50\n",
      "439493/439493 [==============================] - 548s 1ms/step - loss: 0.8668 - acc: 0.8582 - val_loss: 0.6384 - val_acc: 0.9192\n",
      "Epoch 9/50\n",
      "439493/439493 [==============================] - 549s 1ms/step - loss: 0.8176 - acc: 0.8667 - val_loss: 0.5677 - val_acc: 0.9332\n",
      "Epoch 10/50\n",
      "439493/439493 [==============================] - 552s 1ms/step - loss: 0.7796 - acc: 0.8737 - val_loss: 0.5501 - val_acc: 0.9356\n",
      "Epoch 11/50\n",
      "439493/439493 [==============================] - 541s 1ms/step - loss: 0.7522 - acc: 0.8784 - val_loss: 0.5250 - val_acc: 0.9388\n",
      "Epoch 12/50\n",
      "439493/439493 [==============================] - 548s 1ms/step - loss: 0.7257 - acc: 0.8833 - val_loss: 0.5253 - val_acc: 0.9372\n",
      "Epoch 13/50\n",
      "439493/439493 [==============================] - 556s 1ms/step - loss: 0.7068 - acc: 0.8865 - val_loss: 0.5103 - val_acc: 0.9403\n",
      "Epoch 14/50\n",
      "439493/439493 [==============================] - 549s 1ms/step - loss: 0.6924 - acc: 0.8890 - val_loss: 0.4782 - val_acc: 0.9473\n",
      "Epoch 15/50\n",
      "439493/439493 [==============================] - 550s 1ms/step - loss: 0.6738 - acc: 0.8928 - val_loss: 0.4830 - val_acc: 0.9449\n",
      "Epoch 16/50\n",
      "439493/439493 [==============================] - 545s 1ms/step - loss: 0.6597 - acc: 0.8951 - val_loss: 0.4697 - val_acc: 0.9470\n",
      "Epoch 17/50\n",
      "439493/439493 [==============================] - 548s 1ms/step - loss: 0.6479 - acc: 0.8977 - val_loss: 0.4455 - val_acc: 0.9521\n",
      "Epoch 18/50\n",
      "439493/439493 [==============================] - 549s 1ms/step - loss: 0.6509 - acc: 0.8977 - val_loss: 0.4596 - val_acc: 0.9498\n",
      "Epoch 19/50\n",
      "439493/439493 [==============================] - 576s 1ms/step - loss: 0.6301 - acc: 0.9014 - val_loss: 0.4385 - val_acc: 0.9531\n",
      "Epoch 20/50\n",
      "439493/439493 [==============================] - 546s 1ms/step - loss: 0.6195 - acc: 0.9032 - val_loss: 0.4344 - val_acc: 0.9528\n",
      "Epoch 21/50\n",
      "439493/439493 [==============================] - 556s 1ms/step - loss: 0.6102 - acc: 0.9048 - val_loss: 0.4465 - val_acc: 0.9488\n",
      "Epoch 22/50\n",
      "439493/439493 [==============================] - 549s 1ms/step - loss: 0.6024 - acc: 0.9061 - val_loss: 0.4183 - val_acc: 0.9562\n",
      "Epoch 23/50\n",
      "439493/439493 [==============================] - 558s 1ms/step - loss: 0.5945 - acc: 0.9076 - val_loss: 0.4057 - val_acc: 0.9594\n",
      "Epoch 24/50\n",
      "439493/439493 [==============================] - 552s 1ms/step - loss: 0.5884 - acc: 0.9089 - val_loss: 0.4113 - val_acc: 0.9570\n",
      "Epoch 25/50\n",
      "439493/439493 [==============================] - 552s 1ms/step - loss: 0.5765 - acc: 0.9112 - val_loss: 0.3933 - val_acc: 0.9616\n",
      "Epoch 26/50\n",
      "439493/439493 [==============================] - 556s 1ms/step - loss: 0.5691 - acc: 0.9120 - val_loss: 0.3941 - val_acc: 0.9608\n",
      "Epoch 27/50\n",
      "439493/439493 [==============================] - 554s 1ms/step - loss: 0.5680 - acc: 0.9128 - val_loss: 0.3943 - val_acc: 0.9603\n",
      "Epoch 28/50\n",
      "439493/439493 [==============================] - 555s 1ms/step - loss: 0.5586 - acc: 0.9146 - val_loss: 0.3897 - val_acc: 0.9616\n",
      "Epoch 29/50\n",
      "439493/439493 [==============================] - 552s 1ms/step - loss: 0.5556 - acc: 0.9153 - val_loss: 0.4064 - val_acc: 0.9566\n",
      "Epoch 30/50\n",
      "439493/439493 [==============================] - 554s 1ms/step - loss: 0.5510 - acc: 0.9160 - val_loss: 0.3778 - val_acc: 0.9646\n",
      "Epoch 31/50\n",
      "439493/439493 [==============================] - 548s 1ms/step - loss: 0.5461 - acc: 0.9169 - val_loss: 0.3708 - val_acc: 0.9656\n",
      "Epoch 32/50\n",
      "439493/439493 [==============================] - 569s 1ms/step - loss: 0.5387 - acc: 0.9183 - val_loss: 0.3810 - val_acc: 0.9616\n",
      "Epoch 33/50\n",
      "439493/439493 [==============================] - 553s 1ms/step - loss: 0.5340 - acc: 0.9191 - val_loss: 0.3714 - val_acc: 0.9640\n",
      "Epoch 34/50\n",
      "439493/439493 [==============================] - 555s 1ms/step - loss: 0.5298 - acc: 0.9198 - val_loss: 0.3702 - val_acc: 0.9644\n",
      "Epoch 35/50\n",
      "439493/439493 [==============================] - 551s 1ms/step - loss: 0.5270 - acc: 0.9204 - val_loss: 0.3632 - val_acc: 0.9645\n",
      "Epoch 36/50\n",
      "439493/439493 [==============================] - 549s 1ms/step - loss: 0.5215 - acc: 0.9215 - val_loss: 0.3563 - val_acc: 0.9676\n",
      "Epoch 37/50\n",
      "439493/439493 [==============================] - 565s 1ms/step - loss: 0.5198 - acc: 0.9216 - val_loss: 0.3578 - val_acc: 0.9670\n",
      "Epoch 38/50\n",
      "439493/439493 [==============================] - 566s 1ms/step - loss: 0.5167 - acc: 0.9217 - val_loss: 0.3556 - val_acc: 0.9658\n",
      "Epoch 39/50\n",
      "439493/439493 [==============================] - 563s 1ms/step - loss: 0.5097 - acc: 0.9232 - val_loss: 0.3479 - val_acc: 0.9688\n",
      "Epoch 40/50\n",
      "439493/439493 [==============================] - 557s 1ms/step - loss: 0.5080 - acc: 0.9238 - val_loss: 0.3532 - val_acc: 0.9662\n",
      "Epoch 41/50\n",
      "439493/439493 [==============================] - 1542s 4ms/step - loss: 0.5040 - acc: 0.9249 - val_loss: 0.3490 - val_acc: 0.9682\n",
      "Epoch 42/50\n",
      "439493/439493 [==============================] - 792s 2ms/step - loss: 0.5023 - acc: 0.9247 - val_loss: 0.3576 - val_acc: 0.9646\n",
      "Epoch 00042: early stopping\n"
     ]
    }
   ],
   "source": [
    "history1 = model1.fit(\n",
    "    train_pad, y_train,\n",
    "    epochs=50, batch_size=256,\n",
    "    validation_data=(val_pad, y_val),\n",
    "    callbacks=[es]\n",
    "    )"
   ]
  },
  {
   "cell_type": "code",
   "execution_count": 40,
   "metadata": {
    "colab": {},
    "colab_type": "code",
    "id": "AzBvM1RHqxgg"
   },
   "outputs": [],
   "source": [
    "# saving model weights.\n",
    "model1.save_weights('weights/model1.h5')"
   ]
  },
  {
   "cell_type": "code",
   "execution_count": 41,
   "metadata": {
    "colab": {
     "base_uri": "https://localhost:8080/",
     "height": 337
    },
    "colab_type": "code",
    "id": "FvmHIj9gG9VP",
    "outputId": "d66c6376-d696-4bb6-f11f-caff6e8783ab"
   },
   "outputs": [
    {
     "data": {
      "image/png": "[encoded data removed]",
      "text/plain": [
       "<Figure size 864x360 with 2 Axes>"
      ]
     },
     "metadata": {},
     "output_type": "display_data"
    }
   ],
   "source": [
    "plot_history(history1)"
   ]
  },
  {
   "cell_type": "code",
   "execution_count": null,
   "metadata": {
    "colab": {
     "base_uri": "https://localhost:8080/",
     "height": 202
    },
    "colab_type": "code",
    "id": "VlW0i0DiLVI6",
    "outputId": "30afcf5f-1213-4f66-ff37-4faf92fdd404"
   },
   "outputs": [
    {
     "name": "stdout",
     "output_type": "stream",
     "text": [
      "307968/439493 [====================>.........] - ETA: 1:01"
     ]
    }
   ],
   "source": [
    "display_model_score(model1,\n",
    "    [train_pad, y_train],\n",
    "    [val_pad, y_val],\n",
    "    [test_pad, y_test],\n",
    "    256)"
   ]
  }
 ],
 "metadata": {
  "accelerator": "GPU",
  "colab": {
   "collapsed_sections": [
    "y_dDnHNus7SL",
    "KmJ2E-Krs_xt",
    "jtyg15A6ATsS",
    "ylHPrtMlBvyB",
    "xdkPtpHiB45Y",
    "CUfCZp0ICwaF",
    "GCPrxSoI5jQZ",
    "lqRU2FBxezKq",
    "sRXFL8RwlZGZ",
    "7XvpRxecd_B1",
    "LFxzvA1oeJGm",
    "08mVHtLVfCmp",
    "LHh3AXwNp7Yv"
   ],
   "machine_shape": "hm",
   "name": "Copy of Pfam_protein_sequence_classification.ipynb",
   "provenance": []
  },
  "kernelspec": {
   "display_name": "Python 3",
   "language": "python",
   "name": "python3"
  },
  "language_info": {
   "codemirror_mode": {
    "name": "ipython",
    "version": 3
   },
   "file_extension": ".py",
   "mimetype": "text/x-python",
   "name": "python",
   "nbconvert_exporter": "python",
   "pygments_lexer": "ipython3",
   "version": "3.6.5"
  }
 },
 "nbformat": 4,
 "nbformat_minor": 1
}
